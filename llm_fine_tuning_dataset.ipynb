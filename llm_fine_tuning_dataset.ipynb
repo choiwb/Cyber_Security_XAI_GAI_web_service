{
 "cells": [
  {
   "cell_type": "code",
   "execution_count": 1,
   "metadata": {},
   "outputs": [
    {
     "data": {
      "text/plain": [
       "(20, 3)"
      ]
     },
     "execution_count": 1,
     "metadata": {},
     "output_type": "execute_result"
    }
   ],
   "source": [
    "import pandas as pd\n",
    "\n",
    "df = pd.read_csv('chat_gpt_context/security_base_sample.csv')\n",
    "df.shape"
   ]
  },
  {
   "cell_type": "code",
   "execution_count": 2,
   "metadata": {},
   "outputs": [
    {
     "data": {
      "text/html": [
       "<div>\n",
       "<style scoped>\n",
       "    .dataframe tbody tr th:only-of-type {\n",
       "        vertical-align: middle;\n",
       "    }\n",
       "\n",
       "    .dataframe tbody tr th {\n",
       "        vertical-align: top;\n",
       "    }\n",
       "\n",
       "    .dataframe thead th {\n",
       "        text-align: right;\n",
       "    }\n",
       "</style>\n",
       "<table border=\"1\" class=\"dataframe\">\n",
       "  <thead>\n",
       "    <tr style=\"text-align: right;\">\n",
       "      <th></th>\n",
       "      <th>instruction</th>\n",
       "      <th>input</th>\n",
       "      <th>output</th>\n",
       "    </tr>\n",
       "  </thead>\n",
       "  <tbody>\n",
       "    <tr>\n",
       "      <th>0</th>\n",
       "      <td>What is SQL Injection attack?</td>\n",
       "      <td>NaN</td>\n",
       "      <td>a type of cyber attack in which an attacker tr...</td>\n",
       "    </tr>\n",
       "    <tr>\n",
       "      <th>1</th>\n",
       "      <td>What is Command Injection attack?</td>\n",
       "      <td>NaN</td>\n",
       "      <td>a type of cyber attack where an attacker execu...</td>\n",
       "    </tr>\n",
       "    <tr>\n",
       "      <th>2</th>\n",
       "      <td>What is XSS (Cross Site Scripting) attack?</td>\n",
       "      <td>NaN</td>\n",
       "      <td>a type of cyber attack in which an attacker in...</td>\n",
       "    </tr>\n",
       "    <tr>\n",
       "      <th>3</th>\n",
       "      <td>What is JNDI Injection attack?</td>\n",
       "      <td>NaN</td>\n",
       "      <td>a type of security vulnerability that occurs w...</td>\n",
       "    </tr>\n",
       "    <tr>\n",
       "      <th>4</th>\n",
       "      <td>What is Word Press vulnerability?</td>\n",
       "      <td>NaN</td>\n",
       "      <td>a weakness in the WordPress core software or i...</td>\n",
       "    </tr>\n",
       "  </tbody>\n",
       "</table>\n",
       "</div>"
      ],
      "text/plain": [
       "                                  instruction input  \\\n",
       "0               What is SQL Injection attack?   NaN   \n",
       "1           What is Command Injection attack?   NaN   \n",
       "2  What is XSS (Cross Site Scripting) attack?   NaN   \n",
       "3              What is JNDI Injection attack?   NaN   \n",
       "4           What is Word Press vulnerability?   NaN   \n",
       "\n",
       "                                              output  \n",
       "0  a type of cyber attack in which an attacker tr...  \n",
       "1  a type of cyber attack where an attacker execu...  \n",
       "2  a type of cyber attack in which an attacker in...  \n",
       "3  a type of security vulnerability that occurs w...  \n",
       "4  a weakness in the WordPress core software or i...  "
      ]
     },
     "execution_count": 2,
     "metadata": {},
     "output_type": "execute_result"
    }
   ],
   "source": [
    "df.head()"
   ]
  },
  {
   "cell_type": "code",
   "execution_count": 3,
   "metadata": {},
   "outputs": [
    {
     "data": {
      "text/html": [
       "<div>\n",
       "<style scoped>\n",
       "    .dataframe tbody tr th:only-of-type {\n",
       "        vertical-align: middle;\n",
       "    }\n",
       "\n",
       "    .dataframe tbody tr th {\n",
       "        vertical-align: top;\n",
       "    }\n",
       "\n",
       "    .dataframe thead th {\n",
       "        text-align: right;\n",
       "    }\n",
       "</style>\n",
       "<table border=\"1\" class=\"dataframe\">\n",
       "  <thead>\n",
       "    <tr style=\"text-align: right;\">\n",
       "      <th></th>\n",
       "      <th>instruction</th>\n",
       "      <th>input</th>\n",
       "      <th>output</th>\n",
       "    </tr>\n",
       "  </thead>\n",
       "  <tbody>\n",
       "    <tr>\n",
       "      <th>0</th>\n",
       "      <td>What is SQL Injection attack?</td>\n",
       "      <td></td>\n",
       "      <td>a type of cyber attack in which an attacker tr...</td>\n",
       "    </tr>\n",
       "    <tr>\n",
       "      <th>1</th>\n",
       "      <td>What is Command Injection attack?</td>\n",
       "      <td></td>\n",
       "      <td>a type of cyber attack where an attacker execu...</td>\n",
       "    </tr>\n",
       "    <tr>\n",
       "      <th>2</th>\n",
       "      <td>What is XSS (Cross Site Scripting) attack?</td>\n",
       "      <td></td>\n",
       "      <td>a type of cyber attack in which an attacker in...</td>\n",
       "    </tr>\n",
       "    <tr>\n",
       "      <th>3</th>\n",
       "      <td>What is JNDI Injection attack?</td>\n",
       "      <td></td>\n",
       "      <td>a type of security vulnerability that occurs w...</td>\n",
       "    </tr>\n",
       "    <tr>\n",
       "      <th>4</th>\n",
       "      <td>What is Word Press vulnerability?</td>\n",
       "      <td></td>\n",
       "      <td>a weakness in the WordPress core software or i...</td>\n",
       "    </tr>\n",
       "  </tbody>\n",
       "</table>\n",
       "</div>"
      ],
      "text/plain": [
       "                                  instruction input  \\\n",
       "0               What is SQL Injection attack?         \n",
       "1           What is Command Injection attack?         \n",
       "2  What is XSS (Cross Site Scripting) attack?         \n",
       "3              What is JNDI Injection attack?         \n",
       "4           What is Word Press vulnerability?         \n",
       "\n",
       "                                              output  \n",
       "0  a type of cyber attack in which an attacker tr...  \n",
       "1  a type of cyber attack where an attacker execu...  \n",
       "2  a type of cyber attack in which an attacker in...  \n",
       "3  a type of security vulnerability that occurs w...  \n",
       "4  a weakness in the WordPress core software or i...  "
      ]
     },
     "execution_count": 3,
     "metadata": {},
     "output_type": "execute_result"
    }
   ],
   "source": [
    "df = df.fillna('')\n",
    "df.head()"
   ]
  },
  {
   "cell_type": "code",
   "execution_count": null,
   "metadata": {},
   "outputs": [],
   "source": []
  },
  {
   "cell_type": "code",
   "execution_count": 4,
   "metadata": {},
   "outputs": [],
   "source": [
    "import json\n",
    "json_data = []\n",
    "\n",
    "for i in range(len(df)):\n",
    "    temp = {\"instruction\": df.loc[i, \"instruction\"],\n",
    "            \"input\": df.loc[i, \"input\"],\n",
    "            \"output\": df.loc[i, \"output\"]}\n",
    "    json_data.append(temp)"
   ]
  },
  {
   "cell_type": "code",
   "execution_count": 5,
   "metadata": {},
   "outputs": [],
   "source": [
    "json.dump({\"train\": json_data}, open('chat_gpt_context/security_base_sample.json', 'w'), indent=4)\n",
    "# with open('chat_gpt_context/security_base_sample.json', 'w') as f:\n",
    "#    json.dump(json_data, f, indent=4)"
   ]
  },
  {
   "cell_type": "code",
   "execution_count": null,
   "metadata": {},
   "outputs": [],
   "source": []
  }
 ],
 "metadata": {
  "kernelspec": {
   "display_name": "newenv",
   "language": "python",
   "name": "python3"
  },
  "language_info": {
   "codemirror_mode": {
    "name": "ipython",
    "version": 3
   },
   "file_extension": ".py",
   "mimetype": "text/x-python",
   "name": "python",
   "nbconvert_exporter": "python",
   "pygments_lexer": "ipython3",
   "version": "3.8.12"
  },
  "orig_nbformat": 4
 },
 "nbformat": 4,
 "nbformat_minor": 2
}
