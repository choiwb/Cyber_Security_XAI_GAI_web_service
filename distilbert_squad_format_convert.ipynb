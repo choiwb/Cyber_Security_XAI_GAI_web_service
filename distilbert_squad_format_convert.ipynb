{
 "cells": [
  {
   "cell_type": "code",
   "execution_count": 1,
   "metadata": {},
   "outputs": [],
   "source": [
    "import pandas as pd"
   ]
  },
  {
   "cell_type": "code",
   "execution_count": 3,
   "metadata": {},
   "outputs": [
    {
     "data": {
      "text/html": [
       "<div>\n",
       "<style scoped>\n",
       "    .dataframe tbody tr th:only-of-type {\n",
       "        vertical-align: middle;\n",
       "    }\n",
       "\n",
       "    .dataframe tbody tr th {\n",
       "        vertical-align: top;\n",
       "    }\n",
       "\n",
       "    .dataframe thead th {\n",
       "        text-align: right;\n",
       "    }\n",
       "</style>\n",
       "<table border=\"1\" class=\"dataframe\">\n",
       "  <thead>\n",
       "    <tr style=\"text-align: right;\">\n",
       "      <th></th>\n",
       "      <th>question</th>\n",
       "      <th>context</th>\n",
       "      <th>answer</th>\n",
       "    </tr>\n",
       "  </thead>\n",
       "  <tbody>\n",
       "    <tr>\n",
       "      <th>0</th>\n",
       "      <td>POST //SqlIn.asp  HTTP/1.1 Connection: KeepAli...</td>\n",
       "      <td>If any string appears between select and from ...</td>\n",
       "      <td>SQL Injection</td>\n",
       "    </tr>\n",
       "    <tr>\n",
       "      <th>1</th>\n",
       "      <td>POST //md5.asp  HTTP/1.1 Connection: KeepAlive...</td>\n",
       "      <td>If any string appears between select and from ...</td>\n",
       "      <td>SQL Injection</td>\n",
       "    </tr>\n",
       "    <tr>\n",
       "      <th>2</th>\n",
       "      <td>POST //plus/index.asp  HTTP/1.1 Connection: Ke...</td>\n",
       "      <td>If any string appears between select and from ...</td>\n",
       "      <td>SQL Injection</td>\n",
       "    </tr>\n",
       "    <tr>\n",
       "      <th>3</th>\n",
       "      <td>POST //AspCms_Config.asp  HTTP/1.1 Connection:...</td>\n",
       "      <td>If any string appears between select and from ...</td>\n",
       "      <td>SQL Injection</td>\n",
       "    </tr>\n",
       "    <tr>\n",
       "      <th>4</th>\n",
       "      <td>POST //plus/config.asp  HTTP/1.1 Connection: K...</td>\n",
       "      <td>If any string appears between select and from ...</td>\n",
       "      <td>SQL Injection</td>\n",
       "    </tr>\n",
       "  </tbody>\n",
       "</table>\n",
       "</div>"
      ],
      "text/plain": [
       "                                            question  \\\n",
       "0  POST //SqlIn.asp  HTTP/1.1 Connection: KeepAli...   \n",
       "1  POST //md5.asp  HTTP/1.1 Connection: KeepAlive...   \n",
       "2  POST //plus/index.asp  HTTP/1.1 Connection: Ke...   \n",
       "3  POST //AspCms_Config.asp  HTTP/1.1 Connection:...   \n",
       "4  POST //plus/config.asp  HTTP/1.1 Connection: K...   \n",
       "\n",
       "                                             context         answer  \n",
       "0  If any string appears between select and from ...  SQL Injection  \n",
       "1  If any string appears between select and from ...  SQL Injection  \n",
       "2  If any string appears between select and from ...  SQL Injection  \n",
       "3  If any string appears between select and from ...  SQL Injection  \n",
       "4  If any string appears between select and from ...  SQL Injection  "
      ]
     },
     "execution_count": 3,
     "metadata": {},
     "output_type": "execute_result"
    }
   ],
   "source": [
    "df = pd.read_csv('YOUR DATA PATH !!!!!!!')\n",
    "df = df[['question', 'context', 'answer']]\n",
    "df.head()"
   ]
  },
  {
   "cell_type": "code",
   "execution_count": 4,
   "metadata": {},
   "outputs": [],
   "source": [
    "# answer_start, answer_end 계산\n",
    "df['answer_start'] = df.apply(lambda row: row['context'].find(row['answer']), axis=1)\n",
    "df['answer_end'] = df.apply(lambda row: row['answer_start'] + len(row['answer']), axis=1)"
   ]
  },
  {
   "cell_type": "code",
   "execution_count": 5,
   "metadata": {},
   "outputs": [
    {
     "data": {
      "text/html": [
       "<div>\n",
       "<style scoped>\n",
       "    .dataframe tbody tr th:only-of-type {\n",
       "        vertical-align: middle;\n",
       "    }\n",
       "\n",
       "    .dataframe tbody tr th {\n",
       "        vertical-align: top;\n",
       "    }\n",
       "\n",
       "    .dataframe thead th {\n",
       "        text-align: right;\n",
       "    }\n",
       "</style>\n",
       "<table border=\"1\" class=\"dataframe\">\n",
       "  <thead>\n",
       "    <tr style=\"text-align: right;\">\n",
       "      <th></th>\n",
       "      <th>question</th>\n",
       "      <th>context</th>\n",
       "      <th>answer</th>\n",
       "      <th>answer_start</th>\n",
       "      <th>answer_end</th>\n",
       "    </tr>\n",
       "  </thead>\n",
       "  <tbody>\n",
       "    <tr>\n",
       "      <th>0</th>\n",
       "      <td>POST //SqlIn.asp  HTTP/1.1 Connection: KeepAli...</td>\n",
       "      <td>If any string appears between select and from ...</td>\n",
       "      <td>SQL Injection</td>\n",
       "      <td>78</td>\n",
       "      <td>91</td>\n",
       "    </tr>\n",
       "    <tr>\n",
       "      <th>1</th>\n",
       "      <td>POST //md5.asp  HTTP/1.1 Connection: KeepAlive...</td>\n",
       "      <td>If any string appears between select and from ...</td>\n",
       "      <td>SQL Injection</td>\n",
       "      <td>78</td>\n",
       "      <td>91</td>\n",
       "    </tr>\n",
       "    <tr>\n",
       "      <th>2</th>\n",
       "      <td>POST //plus/index.asp  HTTP/1.1 Connection: Ke...</td>\n",
       "      <td>If any string appears between select and from ...</td>\n",
       "      <td>SQL Injection</td>\n",
       "      <td>78</td>\n",
       "      <td>91</td>\n",
       "    </tr>\n",
       "    <tr>\n",
       "      <th>3</th>\n",
       "      <td>POST //AspCms_Config.asp  HTTP/1.1 Connection:...</td>\n",
       "      <td>If any string appears between select and from ...</td>\n",
       "      <td>SQL Injection</td>\n",
       "      <td>78</td>\n",
       "      <td>91</td>\n",
       "    </tr>\n",
       "    <tr>\n",
       "      <th>4</th>\n",
       "      <td>POST //plus/config.asp  HTTP/1.1 Connection: K...</td>\n",
       "      <td>If any string appears between select and from ...</td>\n",
       "      <td>SQL Injection</td>\n",
       "      <td>78</td>\n",
       "      <td>91</td>\n",
       "    </tr>\n",
       "  </tbody>\n",
       "</table>\n",
       "</div>"
      ],
      "text/plain": [
       "                                            question  \\\n",
       "0  POST //SqlIn.asp  HTTP/1.1 Connection: KeepAli...   \n",
       "1  POST //md5.asp  HTTP/1.1 Connection: KeepAlive...   \n",
       "2  POST //plus/index.asp  HTTP/1.1 Connection: Ke...   \n",
       "3  POST //AspCms_Config.asp  HTTP/1.1 Connection:...   \n",
       "4  POST //plus/config.asp  HTTP/1.1 Connection: K...   \n",
       "\n",
       "                                             context         answer  \\\n",
       "0  If any string appears between select and from ...  SQL Injection   \n",
       "1  If any string appears between select and from ...  SQL Injection   \n",
       "2  If any string appears between select and from ...  SQL Injection   \n",
       "3  If any string appears between select and from ...  SQL Injection   \n",
       "4  If any string appears between select and from ...  SQL Injection   \n",
       "\n",
       "   answer_start  answer_end  \n",
       "0            78          91  \n",
       "1            78          91  \n",
       "2            78          91  \n",
       "3            78          91  \n",
       "4            78          91  "
      ]
     },
     "execution_count": 5,
     "metadata": {},
     "output_type": "execute_result"
    }
   ],
   "source": [
    "df.head()"
   ]
  },
  {
   "cell_type": "code",
   "execution_count": 6,
   "metadata": {},
   "outputs": [],
   "source": [
    "import json\n",
    "\n",
    "# JSON으로 변환\n",
    "json_data = json.dumps({\n",
    "    'data': [\n",
    "        {\n",
    "            'paragraphs': [\n",
    "                {\n",
    "                    'context': row['context'],\n",
    "                    'qas': [\n",
    "                        {\n",
    "                            'question': row['question'],\n",
    "                            'id': str(idx),\n",
    "                            'answers': [\n",
    "                                {\n",
    "                                    'text': row['answer'],\n",
    "                                    'answer_start': row['answer_start'],\n",
    "                                    'answer_end': row['answer_end']\n",
    "                                }\n",
    "                            ]\n",
    "                        }\n",
    "                    ]\n",
    "                }\n",
    "            ]\n",
    "        } for idx, row in df.iterrows()\n",
    "    ]\n",
    "})"
   ]
  },
  {
   "cell_type": "code",
   "execution_count": 8,
   "metadata": {},
   "outputs": [],
   "source": [
    "# json_data"
   ]
  },
  {
   "cell_type": "code",
   "execution_count": 9,
   "metadata": {},
   "outputs": [],
   "source": [
    "file_path = 'json_data의 file path'\n",
    "file_name = 'json_data의 file name'"
   ]
  },
  {
   "cell_type": "code",
   "execution_count": 10,
   "metadata": {},
   "outputs": [],
   "source": [
    "import os\n",
    "# JSON 파일 저장\n",
    "# with open(os.path.join(file_path, file_name), 'w', encoding='utf-8') as f:\n",
    "#    f.write(json_data)"
   ]
  },
  {
   "cell_type": "code",
   "execution_count": null,
   "metadata": {},
   "outputs": [],
   "source": []
  }
 ],
 "metadata": {
  "kernelspec": {
   "display_name": "base",
   "language": "python",
   "name": "python3"
  },
  "language_info": {
   "codemirror_mode": {
    "name": "ipython",
    "version": 3
   },
   "file_extension": ".py",
   "mimetype": "text/x-python",
   "name": "python",
   "nbconvert_exporter": "python",
   "pygments_lexer": "ipython3",
   "version": "3.7.0"
  },
  "orig_nbformat": 4
 },
 "nbformat": 4,
 "nbformat_minor": 2
}
