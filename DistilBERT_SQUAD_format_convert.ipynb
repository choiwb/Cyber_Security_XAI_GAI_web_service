{
 "cells": [
  {
   "cell_type": "code",
   "execution_count": 1,
   "metadata": {},
   "outputs": [],
   "source": [
    "import pandas as pd"
   ]
  },
  {
   "cell_type": "code",
   "execution_count": 2,
   "metadata": {},
   "outputs": [
    {
     "data": {
      "text/html": [
       "<div>\n",
       "<style scoped>\n",
       "    .dataframe tbody tr th:only-of-type {\n",
       "        vertical-align: middle;\n",
       "    }\n",
       "\n",
       "    .dataframe tbody tr th {\n",
       "        vertical-align: top;\n",
       "    }\n",
       "\n",
       "    .dataframe thead th {\n",
       "        text-align: right;\n",
       "    }\n",
       "</style>\n",
       "<table border=\"1\" class=\"dataframe\">\n",
       "  <thead>\n",
       "    <tr style=\"text-align: right;\">\n",
       "      <th></th>\n",
       "      <th>question</th>\n",
       "      <th>context</th>\n",
       "      <th>answer</th>\n",
       "    </tr>\n",
       "  </thead>\n",
       "  <tbody>\n",
       "    <tr>\n",
       "      <th>0</th>\n",
       "      <td>GET /vulnerabilities/sqli/?id=%28SELECT%20%28C...</td>\n",
       "      <td>If any string appears between select and from ...</td>\n",
       "      <td>SQLInjection</td>\n",
       "    </tr>\n",
       "    <tr>\n",
       "      <th>1</th>\n",
       "      <td>GET /bbs/board.php?bo_table=ad_04_01%27)%20AND...</td>\n",
       "      <td>If any string appears between select and from ...</td>\n",
       "      <td>SQLInjection</td>\n",
       "    </tr>\n",
       "    <tr>\n",
       "      <th>2</th>\n",
       "      <td>ataroom/notice_list.asp\" class=\"depth1_btn\"&gt;.?...</td>\n",
       "      <td>If any string appears between select and from ...</td>\n",
       "      <td>SQLInjection</td>\n",
       "    </tr>\n",
       "    <tr>\n",
       "      <th>3</th>\n",
       "      <td>GET /plus/recommend.php?action=&amp;aid=1&amp;_FILES[t...</td>\n",
       "      <td>If any string appears between select and from ...</td>\n",
       "      <td>SQLInjection</td>\n",
       "    </tr>\n",
       "    <tr>\n",
       "      <th>4</th>\n",
       "      <td>DELETE /vizql/w/_01___v3DB/v/__6/destroy/sessi...</td>\n",
       "      <td>If any string appears between select and from ...</td>\n",
       "      <td>SQLInjection</td>\n",
       "    </tr>\n",
       "  </tbody>\n",
       "</table>\n",
       "</div>"
      ],
      "text/plain": [
       "                                            question  \\\n",
       "0  GET /vulnerabilities/sqli/?id=%28SELECT%20%28C...   \n",
       "1  GET /bbs/board.php?bo_table=ad_04_01%27)%20AND...   \n",
       "2  ataroom/notice_list.asp\" class=\"depth1_btn\">.?...   \n",
       "3  GET /plus/recommend.php?action=&aid=1&_FILES[t...   \n",
       "4  DELETE /vizql/w/_01___v3DB/v/__6/destroy/sessi...   \n",
       "\n",
       "                                             context        answer  \n",
       "0  If any string appears between select and from ...  SQLInjection  \n",
       "1  If any string appears between select and from ...  SQLInjection  \n",
       "2  If any string appears between select and from ...  SQLInjection  \n",
       "3  If any string appears between select and from ...  SQLInjection  \n",
       "4  If any string appears between select and from ...  SQLInjection  "
      ]
     },
     "execution_count": 2,
     "metadata": {},
     "output_type": "execute_result"
    }
   ],
   "source": [
    "df = pd.read_csv('chat_gpt_context/distilbert_squad_dataset.csv')\n",
    "df = df[['question', 'context', 'answer']]\n",
    "df.head()"
   ]
  },
  {
   "cell_type": "code",
   "execution_count": 3,
   "metadata": {},
   "outputs": [],
   "source": [
    "# answer_start, answer_end 계산\n",
    "df['answer_start'] = df.apply(lambda row: row['context'].find(row['answer']), axis=1)\n",
    "df['answer_end'] = df.apply(lambda row: row['answer_start'] + len(row['answer']), axis=1)"
   ]
  },
  {
   "cell_type": "code",
   "execution_count": 4,
   "metadata": {},
   "outputs": [
    {
     "data": {
      "text/html": [
       "<div>\n",
       "<style scoped>\n",
       "    .dataframe tbody tr th:only-of-type {\n",
       "        vertical-align: middle;\n",
       "    }\n",
       "\n",
       "    .dataframe tbody tr th {\n",
       "        vertical-align: top;\n",
       "    }\n",
       "\n",
       "    .dataframe thead th {\n",
       "        text-align: right;\n",
       "    }\n",
       "</style>\n",
       "<table border=\"1\" class=\"dataframe\">\n",
       "  <thead>\n",
       "    <tr style=\"text-align: right;\">\n",
       "      <th></th>\n",
       "      <th>question</th>\n",
       "      <th>context</th>\n",
       "      <th>answer</th>\n",
       "      <th>answer_start</th>\n",
       "      <th>answer_end</th>\n",
       "    </tr>\n",
       "  </thead>\n",
       "  <tbody>\n",
       "    <tr>\n",
       "      <th>0</th>\n",
       "      <td>GET /vulnerabilities/sqli/?id=%28SELECT%20%28C...</td>\n",
       "      <td>If any string appears between select and from ...</td>\n",
       "      <td>SQLInjection</td>\n",
       "      <td>129</td>\n",
       "      <td>141</td>\n",
       "    </tr>\n",
       "    <tr>\n",
       "      <th>1</th>\n",
       "      <td>GET /bbs/board.php?bo_table=ad_04_01%27)%20AND...</td>\n",
       "      <td>If any string appears between select and from ...</td>\n",
       "      <td>SQLInjection</td>\n",
       "      <td>129</td>\n",
       "      <td>141</td>\n",
       "    </tr>\n",
       "    <tr>\n",
       "      <th>2</th>\n",
       "      <td>ataroom/notice_list.asp\" class=\"depth1_btn\"&gt;.?...</td>\n",
       "      <td>If any string appears between select and from ...</td>\n",
       "      <td>SQLInjection</td>\n",
       "      <td>129</td>\n",
       "      <td>141</td>\n",
       "    </tr>\n",
       "    <tr>\n",
       "      <th>3</th>\n",
       "      <td>GET /plus/recommend.php?action=&amp;aid=1&amp;_FILES[t...</td>\n",
       "      <td>If any string appears between select and from ...</td>\n",
       "      <td>SQLInjection</td>\n",
       "      <td>129</td>\n",
       "      <td>141</td>\n",
       "    </tr>\n",
       "    <tr>\n",
       "      <th>4</th>\n",
       "      <td>DELETE /vizql/w/_01___v3DB/v/__6/destroy/sessi...</td>\n",
       "      <td>If any string appears between select and from ...</td>\n",
       "      <td>SQLInjection</td>\n",
       "      <td>129</td>\n",
       "      <td>141</td>\n",
       "    </tr>\n",
       "  </tbody>\n",
       "</table>\n",
       "</div>"
      ],
      "text/plain": [
       "                                            question  \\\n",
       "0  GET /vulnerabilities/sqli/?id=%28SELECT%20%28C...   \n",
       "1  GET /bbs/board.php?bo_table=ad_04_01%27)%20AND...   \n",
       "2  ataroom/notice_list.asp\" class=\"depth1_btn\">.?...   \n",
       "3  GET /plus/recommend.php?action=&aid=1&_FILES[t...   \n",
       "4  DELETE /vizql/w/_01___v3DB/v/__6/destroy/sessi...   \n",
       "\n",
       "                                             context        answer  \\\n",
       "0  If any string appears between select and from ...  SQLInjection   \n",
       "1  If any string appears between select and from ...  SQLInjection   \n",
       "2  If any string appears between select and from ...  SQLInjection   \n",
       "3  If any string appears between select and from ...  SQLInjection   \n",
       "4  If any string appears between select and from ...  SQLInjection   \n",
       "\n",
       "   answer_start  answer_end  \n",
       "0           129         141  \n",
       "1           129         141  \n",
       "2           129         141  \n",
       "3           129         141  \n",
       "4           129         141  "
      ]
     },
     "execution_count": 4,
     "metadata": {},
     "output_type": "execute_result"
    }
   ],
   "source": [
    "df.head()"
   ]
  },
  {
   "cell_type": "code",
   "execution_count": 5,
   "metadata": {},
   "outputs": [
    {
     "data": {
      "text/plain": [
       "AttemptAccessAdminPage    11722\n",
       "CrossSiteScripting         1910\n",
       "WordPress                  1184\n",
       "SQLInjection                903\n",
       "maliciousbot                673\n",
       "CommandInjection            396\n",
       "JNDIInjection                89\n",
       "Name: answer, dtype: int64"
      ]
     },
     "execution_count": 5,
     "metadata": {},
     "output_type": "execute_result"
    }
   ],
   "source": [
    "df['answer'].value_counts()"
   ]
  },
  {
   "cell_type": "code",
   "execution_count": 6,
   "metadata": {},
   "outputs": [],
   "source": [
    "df['question'] = df['question'].str.lower()\n",
    "df['context'] = df['context'].str.lower()\n",
    "df['answer'] = df['answer'].str.lower()"
   ]
  },
  {
   "cell_type": "code",
   "execution_count": 7,
   "metadata": {},
   "outputs": [],
   "source": [
    "import json\n",
    "\n",
    "# JSON으로 변환\n",
    "json_data = json.dumps({\n",
    "    'data': [\n",
    "        {\n",
    "            'paragraphs': [\n",
    "                {\n",
    "                    'context': row['context'],\n",
    "                    'qas': [\n",
    "                        {\n",
    "                            'question': row['question'],\n",
    "                            'id': str(idx),\n",
    "                            'answers': [\n",
    "                                {\n",
    "                                    'text': row['answer'],\n",
    "                                    'answer_start': row['answer_start'],\n",
    "                                    'answer_end': row['answer_end']\n",
    "                                }\n",
    "                            ]\n",
    "                        }\n",
    "                    ]\n",
    "                }\n",
    "            ]\n",
    "        } for idx, row in df.iterrows()\n",
    "    ]\n",
    "})"
   ]
  },
  {
   "cell_type": "code",
   "execution_count": 8,
   "metadata": {},
   "outputs": [],
   "source": [
    "# json_data"
   ]
  },
  {
   "cell_type": "code",
   "execution_count": 9,
   "metadata": {},
   "outputs": [],
   "source": [
    "file_path = 'chat_gpt_context'\n",
    "file_name = 'distilbert_squad_dataset.json'"
   ]
  },
  {
   "cell_type": "code",
   "execution_count": 10,
   "metadata": {},
   "outputs": [],
   "source": [
    "import os\n",
    "# JSON 파일 저장\n",
    "# with open(os.path.join(file_path, file_name), 'w', encoding='utf-8') as f:\n",
    "#   f.write(json_data)"
   ]
  },
  {
   "cell_type": "code",
   "execution_count": null,
   "metadata": {},
   "outputs": [],
   "source": []
  }
 ],
 "metadata": {
  "kernelspec": {
   "display_name": "base",
   "language": "python",
   "name": "python3"
  },
  "language_info": {
   "codemirror_mode": {
    "name": "ipython",
    "version": 3
   },
   "file_extension": ".py",
   "mimetype": "text/x-python",
   "name": "python",
   "nbconvert_exporter": "python",
   "pygments_lexer": "ipython3",
   "version": "3.7.0"
  },
  "orig_nbformat": 4
 },
 "nbformat": 4,
 "nbformat_minor": 2
}
