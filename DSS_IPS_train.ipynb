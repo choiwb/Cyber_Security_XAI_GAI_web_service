{
 "cells": [
  {
   "cell_type": "code",
   "execution_count": 2,
   "metadata": {},
   "outputs": [],
   "source": [
    "import pandas as pd\n",
    "from lightgbm import LGBMClassifier"
   ]
  },
  {
   "cell_type": "code",
   "execution_count": 3,
   "metadata": {},
   "outputs": [
    {
     "data": {
      "text/plain": [
       "Index(['label', 'ips_00013_payload_length_value',\n",
       "       'ips_00014_payload_logscaled_length_value',\n",
       "       'ips_00015_payload_sys_manager_flag',\n",
       "       'ips_00016_payload_sys_console_flag',\n",
       "       'ips_00017_payload_sys_admin_flag', 'ips_00018_payload_sys_setup_flag',\n",
       "       'ips_00019_payload_sys_config_flag',\n",
       "       'ips_00020_payload_sys_server_flag',\n",
       "       'ips_00021_payload_char_single_quotation_cnt',\n",
       "       'ips_00022_payload_char_double_quotation_cnt',\n",
       "       'ips_00023_payload_char_equal_cnt', 'ips_00024_payload_char_plus_cnt',\n",
       "       'ips_00025_payload_char_star_cnt', 'ips_00026_payload_char_slush_cnt',\n",
       "       'ips_00027_payload_char_lt_cnt', 'ips_00028_payload_char_at_cnt',\n",
       "       'ips_00029_payload_char_parent_cnt',\n",
       "       'ips_00030_payload_char_bracket_cnt',\n",
       "       'ips_00031_payload_char_dollar_cnt',\n",
       "       'ips_00032_payload_char_double_dot_cnt',\n",
       "       'ips_00033_payload_sql_and_flag', 'ips_00034_payload_sql_or_flag',\n",
       "       'ips_00035_payload_sql_select_flag', 'ips_00036_payload_sql_from_flag',\n",
       "       'ips_00037_payload_sql_cast_flag', 'ips_00038_payload_sql_union_flag',\n",
       "       'ips_00039_payload_sql_eval_flag', 'ips_00040_payload_sql_char_flag',\n",
       "       'ips_00041_payload_sql_base64_flag',\n",
       "       'ips_00042_payload_sql_declare_flag',\n",
       "       'ips_00043_payload_xss_alert_flag', 'ips_00044_payload_xss_script_flag',\n",
       "       'ips_00045_payload_xss_document_flag',\n",
       "       'ips_00046_payload_xss_onmouseover_flag',\n",
       "       'ips_00047_payload_xss_onload_flag', 'ips_00048_payload_cmd_cmd_flag',\n",
       "       'ips_00049_payload_cmd_run_flag', 'ips_00050_payload_cmd_config_flag',\n",
       "       'ips_00051_payload_cmd_ls_flag', 'ips_00052_payload_cmd_mkdir_flag',\n",
       "       'ips_00053_payload_cmd_netstat_flag', 'ips_00054_payload_cmd_ftp_flag',\n",
       "       'ips_00055_payload_cmd_cat_flag', 'ips_00056_payload_cmd_dir_flag',\n",
       "       'ips_00057_payload_cmd_wget_flag', 'ips_00058_payload_cmd_echo_flag',\n",
       "       'ips_00059_payload_cmd_rm_flag'],\n",
       "      dtype='object')"
      ]
     },
     "execution_count": 3,
     "metadata": {},
     "output_type": "execute_result"
    }
   ],
   "source": [
    "ml_df = pd.read_csv('IPS_payload_200000_sql_result_df_result.csv')\n",
    "ml_df.columns"
   ]
  },
  {
   "cell_type": "code",
   "execution_count": 4,
   "metadata": {},
   "outputs": [
    {
     "data": {
      "text/html": [
       "<div>\n",
       "<style scoped>\n",
       "    .dataframe tbody tr th:only-of-type {\n",
       "        vertical-align: middle;\n",
       "    }\n",
       "\n",
       "    .dataframe tbody tr th {\n",
       "        vertical-align: top;\n",
       "    }\n",
       "\n",
       "    .dataframe thead th {\n",
       "        text-align: right;\n",
       "    }\n",
       "</style>\n",
       "<table border=\"1\" class=\"dataframe\">\n",
       "  <thead>\n",
       "    <tr style=\"text-align: right;\">\n",
       "      <th></th>\n",
       "      <th>label</th>\n",
       "      <th>ips_00013_payload_length_value</th>\n",
       "      <th>ips_00014_payload_logscaled_length_value</th>\n",
       "      <th>ips_00015_payload_sys_manager_flag</th>\n",
       "      <th>ips_00016_payload_sys_console_flag</th>\n",
       "      <th>ips_00017_payload_sys_admin_flag</th>\n",
       "      <th>ips_00018_payload_sys_setup_flag</th>\n",
       "      <th>ips_00019_payload_sys_config_flag</th>\n",
       "      <th>ips_00020_payload_sys_server_flag</th>\n",
       "      <th>ips_00021_payload_char_single_quotation_cnt</th>\n",
       "      <th>...</th>\n",
       "      <th>ips_00050_payload_cmd_config_flag</th>\n",
       "      <th>ips_00051_payload_cmd_ls_flag</th>\n",
       "      <th>ips_00052_payload_cmd_mkdir_flag</th>\n",
       "      <th>ips_00053_payload_cmd_netstat_flag</th>\n",
       "      <th>ips_00054_payload_cmd_ftp_flag</th>\n",
       "      <th>ips_00055_payload_cmd_cat_flag</th>\n",
       "      <th>ips_00056_payload_cmd_dir_flag</th>\n",
       "      <th>ips_00057_payload_cmd_wget_flag</th>\n",
       "      <th>ips_00058_payload_cmd_echo_flag</th>\n",
       "      <th>ips_00059_payload_cmd_rm_flag</th>\n",
       "    </tr>\n",
       "  </thead>\n",
       "  <tbody>\n",
       "    <tr>\n",
       "      <th>0</th>\n",
       "      <td>O</td>\n",
       "      <td>391</td>\n",
       "      <td>5</td>\n",
       "      <td>0</td>\n",
       "      <td>0</td>\n",
       "      <td>0</td>\n",
       "      <td>0</td>\n",
       "      <td>0</td>\n",
       "      <td>0</td>\n",
       "      <td>0</td>\n",
       "      <td>...</td>\n",
       "      <td>0</td>\n",
       "      <td>0</td>\n",
       "      <td>0</td>\n",
       "      <td>0</td>\n",
       "      <td>0</td>\n",
       "      <td>0</td>\n",
       "      <td>0</td>\n",
       "      <td>0</td>\n",
       "      <td>0</td>\n",
       "      <td>0</td>\n",
       "    </tr>\n",
       "    <tr>\n",
       "      <th>1</th>\n",
       "      <td>O</td>\n",
       "      <td>758</td>\n",
       "      <td>6</td>\n",
       "      <td>0</td>\n",
       "      <td>0</td>\n",
       "      <td>0</td>\n",
       "      <td>0</td>\n",
       "      <td>0</td>\n",
       "      <td>0</td>\n",
       "      <td>0</td>\n",
       "      <td>...</td>\n",
       "      <td>0</td>\n",
       "      <td>0</td>\n",
       "      <td>0</td>\n",
       "      <td>0</td>\n",
       "      <td>0</td>\n",
       "      <td>0</td>\n",
       "      <td>0</td>\n",
       "      <td>0</td>\n",
       "      <td>0</td>\n",
       "      <td>0</td>\n",
       "    </tr>\n",
       "    <tr>\n",
       "      <th>2</th>\n",
       "      <td>X</td>\n",
       "      <td>411</td>\n",
       "      <td>6</td>\n",
       "      <td>0</td>\n",
       "      <td>0</td>\n",
       "      <td>0</td>\n",
       "      <td>0</td>\n",
       "      <td>0</td>\n",
       "      <td>0</td>\n",
       "      <td>0</td>\n",
       "      <td>...</td>\n",
       "      <td>0</td>\n",
       "      <td>0</td>\n",
       "      <td>0</td>\n",
       "      <td>0</td>\n",
       "      <td>0</td>\n",
       "      <td>0</td>\n",
       "      <td>0</td>\n",
       "      <td>0</td>\n",
       "      <td>0</td>\n",
       "      <td>0</td>\n",
       "    </tr>\n",
       "    <tr>\n",
       "      <th>3</th>\n",
       "      <td>O</td>\n",
       "      <td>43</td>\n",
       "      <td>3</td>\n",
       "      <td>0</td>\n",
       "      <td>0</td>\n",
       "      <td>0</td>\n",
       "      <td>0</td>\n",
       "      <td>0</td>\n",
       "      <td>0</td>\n",
       "      <td>0</td>\n",
       "      <td>...</td>\n",
       "      <td>0</td>\n",
       "      <td>0</td>\n",
       "      <td>0</td>\n",
       "      <td>0</td>\n",
       "      <td>0</td>\n",
       "      <td>0</td>\n",
       "      <td>0</td>\n",
       "      <td>0</td>\n",
       "      <td>0</td>\n",
       "      <td>0</td>\n",
       "    </tr>\n",
       "    <tr>\n",
       "      <th>4</th>\n",
       "      <td>O</td>\n",
       "      <td>58</td>\n",
       "      <td>4</td>\n",
       "      <td>0</td>\n",
       "      <td>0</td>\n",
       "      <td>0</td>\n",
       "      <td>0</td>\n",
       "      <td>0</td>\n",
       "      <td>0</td>\n",
       "      <td>1</td>\n",
       "      <td>...</td>\n",
       "      <td>0</td>\n",
       "      <td>0</td>\n",
       "      <td>0</td>\n",
       "      <td>0</td>\n",
       "      <td>0</td>\n",
       "      <td>0</td>\n",
       "      <td>0</td>\n",
       "      <td>0</td>\n",
       "      <td>0</td>\n",
       "      <td>0</td>\n",
       "    </tr>\n",
       "  </tbody>\n",
       "</table>\n",
       "<p>5 rows × 48 columns</p>\n",
       "</div>"
      ],
      "text/plain": [
       "  label  ips_00013_payload_length_value  \\\n",
       "0     O                             391   \n",
       "1     O                             758   \n",
       "2     X                             411   \n",
       "3     O                              43   \n",
       "4     O                              58   \n",
       "\n",
       "   ips_00014_payload_logscaled_length_value  \\\n",
       "0                                         5   \n",
       "1                                         6   \n",
       "2                                         6   \n",
       "3                                         3   \n",
       "4                                         4   \n",
       "\n",
       "   ips_00015_payload_sys_manager_flag  ips_00016_payload_sys_console_flag  \\\n",
       "0                                   0                                   0   \n",
       "1                                   0                                   0   \n",
       "2                                   0                                   0   \n",
       "3                                   0                                   0   \n",
       "4                                   0                                   0   \n",
       "\n",
       "   ips_00017_payload_sys_admin_flag  ips_00018_payload_sys_setup_flag  \\\n",
       "0                                 0                                 0   \n",
       "1                                 0                                 0   \n",
       "2                                 0                                 0   \n",
       "3                                 0                                 0   \n",
       "4                                 0                                 0   \n",
       "\n",
       "   ips_00019_payload_sys_config_flag  ips_00020_payload_sys_server_flag  \\\n",
       "0                                  0                                  0   \n",
       "1                                  0                                  0   \n",
       "2                                  0                                  0   \n",
       "3                                  0                                  0   \n",
       "4                                  0                                  0   \n",
       "\n",
       "   ips_00021_payload_char_single_quotation_cnt  ...  \\\n",
       "0                                            0  ...   \n",
       "1                                            0  ...   \n",
       "2                                            0  ...   \n",
       "3                                            0  ...   \n",
       "4                                            1  ...   \n",
       "\n",
       "   ips_00050_payload_cmd_config_flag  ips_00051_payload_cmd_ls_flag  \\\n",
       "0                                  0                              0   \n",
       "1                                  0                              0   \n",
       "2                                  0                              0   \n",
       "3                                  0                              0   \n",
       "4                                  0                              0   \n",
       "\n",
       "   ips_00052_payload_cmd_mkdir_flag  ips_00053_payload_cmd_netstat_flag  \\\n",
       "0                                 0                                   0   \n",
       "1                                 0                                   0   \n",
       "2                                 0                                   0   \n",
       "3                                 0                                   0   \n",
       "4                                 0                                   0   \n",
       "\n",
       "   ips_00054_payload_cmd_ftp_flag  ips_00055_payload_cmd_cat_flag  \\\n",
       "0                               0                               0   \n",
       "1                               0                               0   \n",
       "2                               0                               0   \n",
       "3                               0                               0   \n",
       "4                               0                               0   \n",
       "\n",
       "   ips_00056_payload_cmd_dir_flag  ips_00057_payload_cmd_wget_flag  \\\n",
       "0                               0                                0   \n",
       "1                               0                                0   \n",
       "2                               0                                0   \n",
       "3                               0                                0   \n",
       "4                               0                                0   \n",
       "\n",
       "   ips_00058_payload_cmd_echo_flag  ips_00059_payload_cmd_rm_flag  \n",
       "0                                0                              0  \n",
       "1                                0                              0  \n",
       "2                                0                              0  \n",
       "3                                0                              0  \n",
       "4                                0                              0  \n",
       "\n",
       "[5 rows x 48 columns]"
      ]
     },
     "execution_count": 4,
     "metadata": {},
     "output_type": "execute_result"
    }
   ],
   "source": [
    "ml_df.head()"
   ]
  },
  {
   "cell_type": "code",
   "execution_count": 5,
   "metadata": {},
   "outputs": [
    {
     "data": {
      "text/plain": [
       "label                                          object\n",
       "ips_00013_payload_length_value                  int64\n",
       "ips_00014_payload_logscaled_length_value        int64\n",
       "ips_00015_payload_sys_manager_flag              int64\n",
       "ips_00016_payload_sys_console_flag              int64\n",
       "ips_00017_payload_sys_admin_flag                int64\n",
       "ips_00018_payload_sys_setup_flag                int64\n",
       "ips_00019_payload_sys_config_flag               int64\n",
       "ips_00020_payload_sys_server_flag               int64\n",
       "ips_00021_payload_char_single_quotation_cnt     int64\n",
       "ips_00022_payload_char_double_quotation_cnt     int64\n",
       "ips_00023_payload_char_equal_cnt                int64\n",
       "ips_00024_payload_char_plus_cnt                 int64\n",
       "ips_00025_payload_char_star_cnt                 int64\n",
       "ips_00026_payload_char_slush_cnt                int64\n",
       "ips_00027_payload_char_lt_cnt                   int64\n",
       "ips_00028_payload_char_at_cnt                   int64\n",
       "ips_00029_payload_char_parent_cnt               int64\n",
       "ips_00030_payload_char_bracket_cnt              int64\n",
       "ips_00031_payload_char_dollar_cnt               int64\n",
       "ips_00032_payload_char_double_dot_cnt           int64\n",
       "ips_00033_payload_sql_and_flag                  int64\n",
       "ips_00034_payload_sql_or_flag                   int64\n",
       "ips_00035_payload_sql_select_flag               int64\n",
       "ips_00036_payload_sql_from_flag                 int64\n",
       "ips_00037_payload_sql_cast_flag                 int64\n",
       "ips_00038_payload_sql_union_flag                int64\n",
       "ips_00039_payload_sql_eval_flag                 int64\n",
       "ips_00040_payload_sql_char_flag                 int64\n",
       "ips_00041_payload_sql_base64_flag               int64\n",
       "ips_00042_payload_sql_declare_flag              int64\n",
       "ips_00043_payload_xss_alert_flag                int64\n",
       "ips_00044_payload_xss_script_flag               int64\n",
       "ips_00045_payload_xss_document_flag             int64\n",
       "ips_00046_payload_xss_onmouseover_flag          int64\n",
       "ips_00047_payload_xss_onload_flag               int64\n",
       "ips_00048_payload_cmd_cmd_flag                  int64\n",
       "ips_00049_payload_cmd_run_flag                  int64\n",
       "ips_00050_payload_cmd_config_flag               int64\n",
       "ips_00051_payload_cmd_ls_flag                   int64\n",
       "ips_00052_payload_cmd_mkdir_flag                int64\n",
       "ips_00053_payload_cmd_netstat_flag              int64\n",
       "ips_00054_payload_cmd_ftp_flag                  int64\n",
       "ips_00055_payload_cmd_cat_flag                  int64\n",
       "ips_00056_payload_cmd_dir_flag                  int64\n",
       "ips_00057_payload_cmd_wget_flag                 int64\n",
       "ips_00058_payload_cmd_echo_flag                 int64\n",
       "ips_00059_payload_cmd_rm_flag                   int64\n",
       "dtype: object"
      ]
     },
     "execution_count": 5,
     "metadata": {},
     "output_type": "execute_result"
    }
   ],
   "source": [
    "ml_df.dtypes"
   ]
  },
  {
   "cell_type": "code",
   "execution_count": null,
   "metadata": {},
   "outputs": [],
   "source": []
  },
  {
   "cell_type": "markdown",
   "metadata": {},
   "source": [
    "LightGBM"
   ]
  },
  {
   "cell_type": "code",
   "execution_count": 6,
   "metadata": {},
   "outputs": [],
   "source": [
    "lgb_clf = LGBMClassifier(random_state=127127)"
   ]
  },
  {
   "cell_type": "code",
   "execution_count": 7,
   "metadata": {},
   "outputs": [
    {
     "data": {
      "text/plain": [
       "{'boosting_type': 'gbdt',\n",
       " 'class_weight': None,\n",
       " 'colsample_bytree': 1.0,\n",
       " 'importance_type': 'split',\n",
       " 'learning_rate': 0.1,\n",
       " 'max_depth': -1,\n",
       " 'min_child_samples': 20,\n",
       " 'min_child_weight': 0.001,\n",
       " 'min_split_gain': 0.0,\n",
       " 'n_estimators': 100,\n",
       " 'n_jobs': -1,\n",
       " 'num_leaves': 31,\n",
       " 'objective': None,\n",
       " 'random_state': 127127,\n",
       " 'reg_alpha': 0.0,\n",
       " 'reg_lambda': 0.0,\n",
       " 'silent': True,\n",
       " 'subsample': 1.0,\n",
       " 'subsample_for_bin': 200000,\n",
       " 'subsample_freq': 0}"
      ]
     },
     "execution_count": 7,
     "metadata": {},
     "output_type": "execute_result"
    }
   ],
   "source": [
    "lgb_clf.get_params()"
   ]
  },
  {
   "cell_type": "code",
   "execution_count": 8,
   "metadata": {},
   "outputs": [],
   "source": [
    "from sklearn.model_selection import train_test_split\n",
    "\n",
    "train_df, test_df = train_test_split(ml_df, test_size= 0.2,\n",
    "                                    stratify=ml_df['label'], random_state= 7171)"
   ]
  },
  {
   "cell_type": "code",
   "execution_count": 9,
   "metadata": {},
   "outputs": [],
   "source": [
    "X_train = train_df.iloc[:, 1:]\n",
    "y_train = train_df['label']\n",
    "\n",
    "X_test = test_df.iloc[:, 1:]\n",
    "y_test = test_df['label']"
   ]
  },
  {
   "cell_type": "code",
   "execution_count": 10,
   "metadata": {},
   "outputs": [
    {
     "data": {
      "text/plain": [
       "LGBMClassifier(random_state=127127)"
      ]
     },
     "execution_count": 10,
     "metadata": {},
     "output_type": "execute_result"
    }
   ],
   "source": [
    "lgb_clf.fit(X_train, y_train)"
   ]
  },
  {
   "cell_type": "code",
   "execution_count": null,
   "metadata": {},
   "outputs": [],
   "source": []
  },
  {
   "cell_type": "markdown",
   "metadata": {},
   "source": [
    "LightGBM 모델 저장"
   ]
  },
  {
   "cell_type": "code",
   "execution_count": 11,
   "metadata": {},
   "outputs": [
    {
     "data": {
      "text/plain": [
       "'/Users/choiwb/Python_projects/이글루시큐리티_DSS_표준모델_Web_API/DSS_IPS_flask_server'"
      ]
     },
     "execution_count": 11,
     "metadata": {},
     "output_type": "execute_result"
    }
   ],
   "source": [
    "pwd"
   ]
  },
  {
   "cell_type": "code",
   "execution_count": 12,
   "metadata": {},
   "outputs": [],
   "source": [
    "import pickle\n",
    "import os\n",
    "saved_model_path = '/Users/choiwb/Python_projects/이글루시큐리티_DSS_표준모델_Web_API/DSS_IPS_flask_server/saved_model'\n",
    "\n",
    "# pickle.dump(lgb_clf, open(os.path.join(saved_model_path, 'DSS_IPS_LightGBM.pkl'), 'wb'))"
   ]
  },
  {
   "cell_type": "markdown",
   "metadata": {},
   "source": [
    "LightGBM 모델 성능 측정"
   ]
  },
  {
   "cell_type": "code",
   "execution_count": 13,
   "metadata": {},
   "outputs": [
    {
     "data": {
      "text/plain": [
       "O    30096\n",
       "X     9904\n",
       "Name: LGB_AI, dtype: int64"
      ]
     },
     "execution_count": 13,
     "metadata": {},
     "output_type": "execute_result"
    }
   ],
   "source": [
    "y_pred = lgb_clf.predict(X_test)\n",
    "\n",
    "# LGB_AI: 예측 라벨\n",
    "test_df['LGB_AI'] = y_pred\n",
    "test_df['LGB_AI'].value_counts()"
   ]
  },
  {
   "cell_type": "code",
   "execution_count": 14,
   "metadata": {},
   "outputs": [
    {
     "data": {
      "text/plain": [
       "array([[0.00906838, 0.99093162],\n",
       "       [0.9963582 , 0.0036418 ],\n",
       "       [0.99313496, 0.00686504],\n",
       "       ...,\n",
       "       [0.99602204, 0.00397796],\n",
       "       [0.99602204, 0.00397796],\n",
       "       [0.88303497, 0.11696503]])"
      ]
     },
     "execution_count": 14,
     "metadata": {},
     "output_type": "execute_result"
    }
   ],
   "source": [
    "y_pred_proba = lgb_clf.predict_proba(X_test)\n",
    "y_pred_proba"
   ]
  },
  {
   "cell_type": "code",
   "execution_count": 15,
   "metadata": {},
   "outputs": [],
   "source": [
    "# LGB_AI_proba: 예측 라벨 별, 확률\n",
    "test_df['LGB_AI_O_proba'] = y_pred_proba[:, 0]\n",
    "test_df['LGB_AI_X_proba'] = y_pred_proba[:, 1]"
   ]
  },
  {
   "cell_type": "code",
   "execution_count": 16,
   "metadata": {},
   "outputs": [
    {
     "data": {
      "text/html": [
       "<div>\n",
       "<style scoped>\n",
       "    .dataframe tbody tr th:only-of-type {\n",
       "        vertical-align: middle;\n",
       "    }\n",
       "\n",
       "    .dataframe tbody tr th {\n",
       "        vertical-align: top;\n",
       "    }\n",
       "\n",
       "    .dataframe thead th {\n",
       "        text-align: right;\n",
       "    }\n",
       "</style>\n",
       "<table border=\"1\" class=\"dataframe\">\n",
       "  <thead>\n",
       "    <tr style=\"text-align: right;\">\n",
       "      <th></th>\n",
       "      <th>label</th>\n",
       "      <th>LGB_AI</th>\n",
       "      <th>LGB_AI_O_proba</th>\n",
       "      <th>LGB_AI_X_proba</th>\n",
       "    </tr>\n",
       "  </thead>\n",
       "  <tbody>\n",
       "    <tr>\n",
       "      <th>10279</th>\n",
       "      <td>X</td>\n",
       "      <td>X</td>\n",
       "      <td>0.009068</td>\n",
       "      <td>0.990932</td>\n",
       "    </tr>\n",
       "    <tr>\n",
       "      <th>52805</th>\n",
       "      <td>O</td>\n",
       "      <td>O</td>\n",
       "      <td>0.996358</td>\n",
       "      <td>0.003642</td>\n",
       "    </tr>\n",
       "    <tr>\n",
       "      <th>82186</th>\n",
       "      <td>O</td>\n",
       "      <td>O</td>\n",
       "      <td>0.993135</td>\n",
       "      <td>0.006865</td>\n",
       "    </tr>\n",
       "    <tr>\n",
       "      <th>128908</th>\n",
       "      <td>X</td>\n",
       "      <td>X</td>\n",
       "      <td>0.000347</td>\n",
       "      <td>0.999653</td>\n",
       "    </tr>\n",
       "    <tr>\n",
       "      <th>38423</th>\n",
       "      <td>X</td>\n",
       "      <td>O</td>\n",
       "      <td>0.894792</td>\n",
       "      <td>0.105208</td>\n",
       "    </tr>\n",
       "    <tr>\n",
       "      <th>2150</th>\n",
       "      <td>X</td>\n",
       "      <td>X</td>\n",
       "      <td>0.012738</td>\n",
       "      <td>0.987262</td>\n",
       "    </tr>\n",
       "    <tr>\n",
       "      <th>137599</th>\n",
       "      <td>O</td>\n",
       "      <td>O</td>\n",
       "      <td>0.996052</td>\n",
       "      <td>0.003948</td>\n",
       "    </tr>\n",
       "    <tr>\n",
       "      <th>86357</th>\n",
       "      <td>X</td>\n",
       "      <td>X</td>\n",
       "      <td>0.058106</td>\n",
       "      <td>0.941894</td>\n",
       "    </tr>\n",
       "    <tr>\n",
       "      <th>37640</th>\n",
       "      <td>O</td>\n",
       "      <td>O</td>\n",
       "      <td>0.993135</td>\n",
       "      <td>0.006865</td>\n",
       "    </tr>\n",
       "    <tr>\n",
       "      <th>159914</th>\n",
       "      <td>X</td>\n",
       "      <td>X</td>\n",
       "      <td>0.000901</td>\n",
       "      <td>0.999099</td>\n",
       "    </tr>\n",
       "  </tbody>\n",
       "</table>\n",
       "</div>"
      ],
      "text/plain": [
       "       label LGB_AI  LGB_AI_O_proba  LGB_AI_X_proba\n",
       "10279      X      X        0.009068        0.990932\n",
       "52805      O      O        0.996358        0.003642\n",
       "82186      O      O        0.993135        0.006865\n",
       "128908     X      X        0.000347        0.999653\n",
       "38423      X      O        0.894792        0.105208\n",
       "2150       X      X        0.012738        0.987262\n",
       "137599     O      O        0.996052        0.003948\n",
       "86357      X      X        0.058106        0.941894\n",
       "37640      O      O        0.993135        0.006865\n",
       "159914     X      X        0.000901        0.999099"
      ]
     },
     "execution_count": 16,
     "metadata": {},
     "output_type": "execute_result"
    }
   ],
   "source": [
    "test_df[['label', 'LGB_AI', 'LGB_AI_O_proba', 'LGB_AI_X_proba']].head(10)"
   ]
  },
  {
   "cell_type": "code",
   "execution_count": 17,
   "metadata": {},
   "outputs": [
    {
     "data": {
      "text/plain": [
       "array([[29192,   331],\n",
       "       [  904,  9573]])"
      ]
     },
     "execution_count": 17,
     "metadata": {},
     "output_type": "execute_result"
    }
   ],
   "source": [
    "from sklearn.metrics import confusion_matrix, plot_confusion_matrix\n",
    "\n",
    "lgb_cm = confusion_matrix(y_test, y_pred)\n",
    "lgb_cm"
   ]
  },
  {
   "cell_type": "code",
   "execution_count": 18,
   "metadata": {},
   "outputs": [
    {
     "name": "stderr",
     "output_type": "stream",
     "text": [
      "/Users/choiwb/miniforge3/envs/newenv/lib/python3.8/site-packages/sklearn/utils/deprecation.py:87: FutureWarning: Function plot_confusion_matrix is deprecated; Function `plot_confusion_matrix` is deprecated in 1.0 and will be removed in 1.2. Use one of the class methods: ConfusionMatrixDisplay.from_predictions or ConfusionMatrixDisplay.from_estimator.\n",
      "  warnings.warn(msg, category=FutureWarning)\n"
     ]
    },
    {
     "data": {
      "image/png": "[encoded data removed]",
      "text/plain": [
       "<Figure size 432x288 with 2 Axes>"
      ]
     },
     "metadata": {
      "needs_background": "dark"
     },
     "output_type": "display_data"
    }
   ],
   "source": [
    "import matplotlib.pyplot as plt\n",
    "\n",
    "COLOR = 'white'\n",
    "plt.rcParams['text.color'] = COLOR\n",
    "plt.rcParams['axes.labelcolor'] = COLOR\n",
    "plt.rcParams['xtick.color'] = COLOR\n",
    "plt.rcParams['ytick.color'] = COLOR\n",
    "\n",
    "plot_confusion_matrix(lgb_clf, X_test, y_test, cmap = 'Blues')\n",
    "plt.show()"
   ]
  },
  {
   "cell_type": "code",
   "execution_count": 19,
   "metadata": {},
   "outputs": [
    {
     "name": "stdout",
     "output_type": "stream",
     "text": [
      "              precision    recall  f1-score   support\n",
      "\n",
      "           O       0.97      0.99      0.98     29523\n",
      "           X       0.97      0.91      0.94     10477\n",
      "\n",
      "    accuracy                           0.97     40000\n",
      "   macro avg       0.97      0.95      0.96     40000\n",
      "weighted avg       0.97      0.97      0.97     40000\n",
      "\n"
     ]
    }
   ],
   "source": [
    "from sklearn.metrics import classification_report\n",
    "\n",
    "print(classification_report(test_df['label'], test_df['LGB_AI'], labels = ['O', 'X']))"
   ]
  },
  {
   "cell_type": "code",
   "execution_count": 20,
   "metadata": {},
   "outputs": [
    {
     "data": {
      "text/plain": [
       "Index(['label', 'ips_00013_payload_length_value',\n",
       "       'ips_00014_payload_logscaled_length_value',\n",
       "       'ips_00015_payload_sys_manager_flag',\n",
       "       'ips_00016_payload_sys_console_flag',\n",
       "       'ips_00017_payload_sys_admin_flag', 'ips_00018_payload_sys_setup_flag',\n",
       "       'ips_00019_payload_sys_config_flag',\n",
       "       'ips_00020_payload_sys_server_flag',\n",
       "       'ips_00021_payload_char_single_quotation_cnt',\n",
       "       'ips_00022_payload_char_double_quotation_cnt',\n",
       "       'ips_00023_payload_char_equal_cnt', 'ips_00024_payload_char_plus_cnt',\n",
       "       'ips_00025_payload_char_star_cnt', 'ips_00026_payload_char_slush_cnt',\n",
       "       'ips_00027_payload_char_lt_cnt', 'ips_00028_payload_char_at_cnt',\n",
       "       'ips_00029_payload_char_parent_cnt',\n",
       "       'ips_00030_payload_char_bracket_cnt',\n",
       "       'ips_00031_payload_char_dollar_cnt',\n",
       "       'ips_00032_payload_char_double_dot_cnt',\n",
       "       'ips_00033_payload_sql_and_flag', 'ips_00034_payload_sql_or_flag',\n",
       "       'ips_00035_payload_sql_select_flag', 'ips_00036_payload_sql_from_flag',\n",
       "       'ips_00037_payload_sql_cast_flag', 'ips_00038_payload_sql_union_flag',\n",
       "       'ips_00039_payload_sql_eval_flag', 'ips_00040_payload_sql_char_flag',\n",
       "       'ips_00041_payload_sql_base64_flag',\n",
       "       'ips_00042_payload_sql_declare_flag',\n",
       "       'ips_00043_payload_xss_alert_flag', 'ips_00044_payload_xss_script_flag',\n",
       "       'ips_00045_payload_xss_document_flag',\n",
       "       'ips_00046_payload_xss_onmouseover_flag',\n",
       "       'ips_00047_payload_xss_onload_flag', 'ips_00048_payload_cmd_cmd_flag',\n",
       "       'ips_00049_payload_cmd_run_flag', 'ips_00050_payload_cmd_config_flag',\n",
       "       'ips_00051_payload_cmd_ls_flag', 'ips_00052_payload_cmd_mkdir_flag',\n",
       "       'ips_00053_payload_cmd_netstat_flag', 'ips_00054_payload_cmd_ftp_flag',\n",
       "       'ips_00055_payload_cmd_cat_flag', 'ips_00056_payload_cmd_dir_flag',\n",
       "       'ips_00057_payload_cmd_wget_flag', 'ips_00058_payload_cmd_echo_flag',\n",
       "       'ips_00059_payload_cmd_rm_flag', 'LGB_AI', 'LGB_AI_O_proba',\n",
       "       'LGB_AI_X_proba'],\n",
       "      dtype='object')"
      ]
     },
     "execution_count": 20,
     "metadata": {},
     "output_type": "execute_result"
    }
   ],
   "source": [
    "test_df.columns"
   ]
  },
  {
   "cell_type": "code",
   "execution_count": 21,
   "metadata": {},
   "outputs": [
    {
     "data": {
      "text/plain": [
       "(40000, 51)"
      ]
     },
     "execution_count": 21,
     "metadata": {},
     "output_type": "execute_result"
    }
   ],
   "source": [
    "test_df.shape"
   ]
  },
  {
   "cell_type": "code",
   "execution_count": 28,
   "metadata": {},
   "outputs": [],
   "source": [
    "# test_df.to_csv('IPS_payload_lightgbm_result.csv', index = False, sep = ',')"
   ]
  },
  {
   "cell_type": "code",
   "execution_count": null,
   "metadata": {},
   "outputs": [],
   "source": []
  }
 ],
 "metadata": {
  "interpreter": {
   "hash": "4394eee0fff6724ce505428e0bf45950592091024b5e821af64edaa1085e7223"
  },
  "kernelspec": {
   "display_name": "Python 3.8.11 64-bit ('newenv': conda)",
   "language": "python",
   "name": "python3"
  },
  "language_info": {
   "codemirror_mode": {
    "name": "ipython",
    "version": 3
   },
   "file_extension": ".py",
   "mimetype": "text/x-python",
   "name": "python",
   "nbconvert_exporter": "python",
   "pygments_lexer": "ipython3",
   "version": "3.8.11"
  },
  "orig_nbformat": 4
 },
 "nbformat": 4,
 "nbformat_minor": 2
}
