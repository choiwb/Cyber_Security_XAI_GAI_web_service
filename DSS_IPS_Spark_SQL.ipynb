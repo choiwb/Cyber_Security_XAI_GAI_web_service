{
 "cells": [
  {
   "cell_type": "code",
   "execution_count": 1,
   "metadata": {},
   "outputs": [],
   "source": [
    "import pandas as pd, numpy as np\n",
    "import pyspark\n",
    "from pyspark.sql import SparkSession\n",
    "from pyspark.sql.types import *"
   ]
  },
  {
   "cell_type": "code",
   "execution_count": 2,
   "metadata": {},
   "outputs": [
    {
     "data": {
      "text/plain": [
       "Index(['payload', 'label'], dtype='object')"
      ]
     },
     "execution_count": 2,
     "metadata": {},
     "output_type": "execute_result"
    }
   ],
   "source": [
    "raw_data_df = pd.read_csv('IPS_payload_200000_df.csv')\n",
    "raw_data_df.columns"
   ]
  },
  {
   "cell_type": "code",
   "execution_count": 3,
   "metadata": {},
   "outputs": [],
   "source": [
    "import os\n",
    "java11_location= '/opt/homebrew/opt/openjdk@11'\n",
    "os.environ['JAVA_HOME'] = java11_location"
   ]
  },
  {
   "cell_type": "code",
   "execution_count": 4,
   "metadata": {},
   "outputs": [
    {
     "name": "stderr",
     "output_type": "stream",
     "text": [
      "WARNING: An illegal reflective access operation has occurred\n",
      "WARNING: Illegal reflective access by org.apache.spark.unsafe.Platform (file:/opt/homebrew/Cellar/apache-spark/3.2.0/libexec/jars/spark-unsafe_2.12-3.2.0.jar) to constructor java.nio.DirectByteBuffer(long,int)\n",
      "WARNING: Please consider reporting this to the maintainers of org.apache.spark.unsafe.Platform\n",
      "WARNING: Use --illegal-access=warn to enable warnings of further illegal reflective access operations\n",
      "WARNING: All illegal access operations will be denied in a future release\n",
      "Using Spark's default log4j profile: org/apache/spark/log4j-defaults.properties\n",
      "Setting default log level to \"WARN\".\n",
      "To adjust logging level use sc.setLogLevel(newLevel). For SparkR, use setLogLevel(newLevel).\n",
      "22/01/21 21:24:13 WARN NativeCodeLoader: Unable to load native-hadoop library for your platform... using builtin-java classes where applicable\n"
     ]
    }
   ],
   "source": [
    "conf = pyspark.SparkConf().setAppName('prep_data').setMaster('local')\n",
    "# sc = pyspark.SparkContext(conf=conf)\n",
    "sc = pyspark.SparkContext.getOrCreate(conf = conf)"
   ]
  },
  {
   "cell_type": "code",
   "execution_count": 6,
   "metadata": {},
   "outputs": [
    {
     "name": "stdout",
     "output_type": "stream",
     "text": [
      "root\n",
      " |-- payload: string (nullable = true)\n",
      " |-- label: string (nullable = true)\n",
      "\n"
     ]
    }
   ],
   "source": [
    "session = SparkSession(sc)\n",
    "\n",
    "schema = StructType([StructField(\"payload\", StringType(), True)\\\n",
    "                    ,StructField(\"label\", StringType(), True)\n",
    "                ])\n",
    "\n",
    "# 데이터 프레임 등록\n",
    "domain_df = session.createDataFrame(raw_data_df, schema=schema)\n",
    "\n",
    "# 현재 스키마 정보 확인\n",
    "domain_df.printSchema()\n",
    "\n",
    "# 데이터 프레임 'table'이라는 이름으로 SQL테이블 생성\n",
    "domain_df.createOrReplaceTempView(\"table\") #<=== SparkSQL에 생성된 테이블 이름"
   ]
  },
  {
   "cell_type": "code",
   "execution_count": 7,
   "metadata": {},
   "outputs": [],
   "source": [
    "query_1 = \"\"\"\n",
    "\n",
    "        SELECT  label,\n",
    "\n",
    "        CHAR_LENGTH(IF(ISNULL(payload) OR (LOWER(payload) IN (\"\", \" \", \"-\", \"null\", \"nan\")), \"\", payload)) AS ips_00013_payload_length_value,\n",
    "\n",
    "        IF(CHAR_LENGTH(IF(ISNULL(payload) OR (LOWER(payload) IN (\"\", \" \", \"-\", \"null\", \"nan\")), \"\", payload))<1, 0, LN(CHAR_LENGTH(IF(ISNULL(payload) OR (LOWER(payload) IN (\"\", \" \", \"-\", \"null\", \"nan\")), \"\", payload)))) AS ips_00014_payload_logscaled_length_value,\n",
    "\n",
    "        IF(INSTR(LOWER(IF(ISNULL(payload), \"\", payload)), \"manager\")>0, 1, 0) AS ips_00015_payload_sys_manager_flag,\n",
    "\n",
    "        IF(INSTR(LOWER(IF(ISNULL(payload), \"\", payload)), \"console\")>0, 1, 0) AS ips_00016_payload_sys_console_flag,\n",
    "\n",
    "        IF(INSTR(LOWER(IF(ISNULL(payload), \"\", payload)), \"admin\")>0, 1, 0) AS ips_00017_payload_sys_admin_flag,\n",
    "\n",
    "        IF(INSTR(LOWER(IF(ISNULL(payload), \"\", payload)), \"setup\")>0, 1, 0) AS ips_00018_payload_sys_setup_flag,\n",
    "\n",
    "        IF(INSTR(LOWER(IF(ISNULL(payload), \"\", payload)), \"config\")>0, 1, 0) AS ips_00019_payload_sys_config_flag,\n",
    "\n",
    "        IF(INSTR(LOWER(IF(ISNULL(payload), \"\", payload)), \"server\")>0, 1, 0) AS ips_00020_payload_sys_server_flag,\n",
    "\n",
    "        SIZE(SPLIT(IF(ISNULL(payload), \"\", payload), \"[\\']\"))-1 AS ips_00021_payload_char_single_quotation_cnt\n",
    "\n",
    "        FROM table\n",
    "\n",
    "\"\"\""
   ]
  },
  {
   "cell_type": "code",
   "execution_count": 8,
   "metadata": {},
   "outputs": [],
   "source": [
    "query_2 = \"\"\"\n",
    "\n",
    "        SELECT\n",
    "\n",
    "        SIZE(SPLIT(IF(ISNULL(payload), '', payload), '[\\\"]'))-1 AS ips_00022_payload_char_double_quotation_cnt,\n",
    "\n",
    "        SIZE(SPLIT(IF(ISNULL(payload), '', payload), '[\\\\=]')) - SIZE(SPLIT(IF(ISNULL(payload), '', payload), '[\\\\&]')) AS ips_00023_payload_char_equal_cnt,\n",
    "\n",
    "        SIZE(SPLIT(IF(ISNULL(payload), '', payload), '[\\\\+]'))-1 AS ips_00024_payload_char_plus_cnt,\n",
    "\n",
    "        SIZE(SPLIT(IF(ISNULL(payload), '', payload), '[\\\\*]'))-1 AS ips_00025_payload_char_star_cnt,\n",
    "\n",
    "        SIZE(SPLIT(IF(ISNULL(payload), '', payload), '[\\\\/]'))-1 AS ips_00026_payload_char_slush_cnt,\n",
    "\n",
    "        SIZE(SPLIT(IF(ISNULL(payload), '', payload), '[\\\\<]'))-1 AS ips_00027_payload_char_lt_cnt,\n",
    "\n",
    "        SIZE(SPLIT(IF(ISNULL(payload), '', payload), '[\\\\@]'))-1 AS ips_00028_payload_char_at_cnt,\n",
    "\n",
    "        SIZE(SPLIT(IF(ISNULL(payload), '', payload), '[\\\\(]'))-1 AS ips_00029_payload_char_parent_cnt,\n",
    "\n",
    "        SIZE(SPLIT(IF(ISNULL(payload), '', payload), '[\\\\{]'))-1 AS ips_00030_payload_char_bracket_cnt,\n",
    "\n",
    "        SIZE(SPLIT(IF(ISNULL(payload), '', payload), '[\\\\$]'))-1 AS ips_00031_payload_char_dollar_cnt,\n",
    "\n",
    "        SIZE(SPLIT(IF(ISNULL(payload), '', payload), '[\\\\.][\\\\.]'))-1 AS ips_00032_payload_char_double_dot_cnt,\n",
    "\n",
    "        IF(AGGREGATE(TRANSFORM(TRANSFORM(ARRAY(' ', CONCAT(CHR(37), '20'), CHR(43)), ch -> CONCAT(ch, 'and', ch)), word -> INT(INSTR(LOWER(IF(ISNULL(payload), '', payload)), word))), 0, (x1, x2) -> x1+x2)>0, 1, 0) AS ips_00033_payload_sql_and_flag,\n",
    "\n",
    "        IF(AGGREGATE(TRANSFORM(TRANSFORM(ARRAY(' ', CONCAT(CHR(37), '20'), CHR(43)), ch -> CONCAT(ch, 'or', ch)), word -> INT(INSTR(LOWER(IF(ISNULL(payload), '', payload)), word))), 0, (x1, x2) -> x1+x2)>0, 1, 0) AS ips_00034_payload_sql_or_flag,\n",
    "\n",
    "        IF(AGGREGATE(TRANSFORM(TRANSFORM(ARRAY(' ', CONCAT(CHR(37), '20'), CHR(43)), ch -> CONCAT(ch, 'select', ch)), word -> INT(INSTR(LOWER(IF(ISNULL(payload), '', payload)), word))), 0, (x1, x2) -> x1+x2)>0, 1, 0) AS ips_00035_payload_sql_select_flag,\n",
    "\n",
    "        IF(AGGREGATE(TRANSFORM(TRANSFORM(ARRAY(' ', CONCAT(CHR(37), '20'), CHR(43)), ch -> CONCAT(ch, 'from', ch)), word -> INT(INSTR(LOWER(IF(ISNULL(payload), '', payload)), word))), 0, (x1, x2) -> x1+x2)>0, 1, 0) AS ips_00036_payload_sql_from_flag,\n",
    "\n",
    "        IF(INSTR(LOWER(IF(ISNULL(payload), '', payload)), CONCAT('cast', CHR(40)))>0, 1, 0) AS ips_00037_payload_sql_cast_flag,\n",
    "\n",
    "        IF(AGGREGATE(TRANSFORM(TRANSFORM(ARRAY(' ', CONCAT(CHR(37), '20'), CHR(43)), ch -> CONCAT('union', ch)), word -> INT(INSTR(LOWER(IF(ISNULL(payload), '', payload)), word))), 0, (x1, x2) -> x1+x2)>0, 1, 0) AS ips_00038_payload_sql_union_flag,\n",
    "\n",
    "        IF(INSTR(LOWER(IF(ISNULL(payload), '', payload)), CONCAT('eval', CHR(40)))>0, 1, 0) AS ips_00039_payload_sql_eval_flag,\n",
    "\n",
    "        IF(INSTR(LOWER(IF(ISNULL(payload), '', payload)), CONCAT('char', CHR(40)))>0, 1, 0) AS ips_00040_payload_sql_char_flag,\n",
    "\n",
    "        IF(INSTR(LOWER(IF(ISNULL(payload), '', payload)), CONCAT('base64', CHR(40)))>0, 1, 0) AS ips_00041_payload_sql_base64_flag,\n",
    "\n",
    "        IF(AGGREGATE(TRANSFORM(TRANSFORM(ARRAY(' ', CONCAT(CHR(37), '20'), CHR(43)), ch -> CONCAT('declare', ch)), word -> INT(INSTR(LOWER(IF(ISNULL(payload), '', payload)), word))), 0, (x1, x2) -> x1+x2)>0, 1, 0) AS ips_00042_payload_sql_declare_flag,\n",
    "\n",
    "        IF(INSTR(LOWER(IF(ISNULL(payload), '', payload)), 'alert')>0, 1, 0) AS ips_00043_payload_xss_alert_flag,\n",
    "\n",
    "        IF(INSTR(LOWER(IF(ISNULL(payload), '', payload)), 'script')>0, 1, 0) AS ips_00044_payload_xss_script_flag,\n",
    "\n",
    "        IF(INSTR(LOWER(IF(ISNULL(payload), '', payload)), 'document')>0, 1, 0) AS ips_00045_payload_xss_document_flag,\n",
    "\n",
    "        IF(INSTR(LOWER(IF(ISNULL(payload), '', payload)), 'onmouseover')>0, 1, 0) AS ips_00046_payload_xss_onmouseover_flag,\n",
    "\n",
    "        IF(INSTR(LOWER(IF(ISNULL(payload), '', payload)), 'onload')>0, 1, 0) AS ips_00047_payload_xss_onload_flag,\n",
    "\n",
    "        IF(AGGREGATE(TRANSFORM(TRANSFORM(ARRAY(' ', CONCAT(CHR(37), '20'), CHR(43)), ch -> CONCAT('cmd', ch)), word -> INT(INSTR(LOWER(IF(ISNULL(payload), '', payload)), word))), 0, (x1, x2) -> x1+x2)>0, 1, 0) AS ips_00048_payload_cmd_cmd_flag,\n",
    "\n",
    "        IF(AGGREGATE(TRANSFORM(TRANSFORM(ARRAY(' ', CONCAT(CHR(37), '20'), CHR(43)), ch -> CONCAT('run', ch)), word -> INT(INSTR(LOWER(IF(ISNULL(payload), '', payload)), word))), 0, (x1, x2) -> x1+x2)>0, 1, 0) AS ips_00049_payload_cmd_run_flag,\n",
    "\n",
    "        IF(AGGREGATE(TRANSFORM(TRANSFORM(ARRAY(' ', CONCAT(CHR(37), '20'), CHR(43)), ch -> CONCAT('config', ch)), word -> INT(INSTR(LOWER(IF(ISNULL(payload), '', payload)), word))), 0, (x1, x2) -> x1+x2)>0, 1, 0) AS ips_00050_payload_cmd_config_flag,\n",
    "\n",
    "        IF(AGGREGATE(TRANSFORM(TRANSFORM(ARRAY(' ', CONCAT(CHR(37), '20'), CHR(43)), ch -> CONCAT('ls', ch)), word -> INT(INSTR(LOWER(IF(ISNULL(payload), '', payload)), word))), 0, (x1, x2) -> x1+x2)>0, 1, 0) AS ips_00051_payload_cmd_ls_flag,\n",
    "\n",
    "        IF(AGGREGATE(TRANSFORM(TRANSFORM(ARRAY(' ', CONCAT(CHR(37), '20'), CHR(43)), ch -> CONCAT('mkdir', ch)), word -> INT(INSTR(LOWER(IF(ISNULL(payload), '', payload)), word))), 0, (x1, x2) -> x1+x2)>0, 1, 0) AS ips_00052_payload_cmd_mkdir_flag,\n",
    "\n",
    "        IF(AGGREGATE(TRANSFORM(TRANSFORM(ARRAY(' ', CONCAT(CHR(37), '20'), CHR(43)), ch -> CONCAT('netstat', ch)), word -> INT(INSTR(LOWER(IF(ISNULL(payload), '', payload)), word))), 0, (x1, x2) -> x1+x2)>0, 1, 0) AS ips_00053_payload_cmd_netstat_flag,\n",
    "\n",
    "        IF(AGGREGATE(TRANSFORM(TRANSFORM(ARRAY(' ', CONCAT(CHR(37), '20'), CHR(43)), ch -> CONCAT('ftp', ch)), word -> INT(INSTR(LOWER(IF(ISNULL(payload), '', payload)), word))), 0, (x1, x2) -> x1+x2)>0, 1, 0) AS ips_00054_payload_cmd_ftp_flag,\n",
    "\n",
    "        IF(AGGREGATE(TRANSFORM(TRANSFORM(ARRAY(' ', CONCAT(CHR(37), '20'), CHR(43)), ch -> CONCAT('cat', ch)), word -> INT(INSTR(LOWER(IF(ISNULL(payload), '', payload)), word))), 0, (x1, x2) -> x1+x2)>0, 1, 0) AS ips_00055_payload_cmd_cat_flag,\n",
    "\n",
    "        IF(AGGREGATE(TRANSFORM(TRANSFORM(ARRAY(' ', CONCAT(CHR(37), '20'), CHR(43)), ch -> CONCAT('dir', ch)), word -> INT(INSTR(LOWER(IF(ISNULL(payload), '', payload)), word))), 0, (x1, x2) -> x1+x2)>0, 1, 0) AS ips_00056_payload_cmd_dir_flag,\n",
    "\n",
    "        IF(AGGREGATE(TRANSFORM(TRANSFORM(ARRAY(' ', CONCAT(CHR(37), '20'), CHR(43)), ch -> CONCAT('wget', ch)), word -> INT(INSTR(LOWER(IF(ISNULL(payload), '', payload)), word))), 0, (x1, x2) -> x1+x2)>0, 1, 0) AS ips_00057_payload_cmd_wget_flag,\n",
    "\n",
    "        IF(AGGREGATE(TRANSFORM(TRANSFORM(ARRAY(' ', CONCAT(CHR(37), '20'), CHR(43)), ch -> CONCAT('echo', ch)), word -> INT(INSTR(LOWER(IF(ISNULL(payload), '', payload)), word))), 0, (x1, x2) -> x1+x2)>0, 1, 0) AS ips_00058_payload_cmd_echo_flag,\n",
    "\n",
    "        IF(AGGREGATE(TRANSFORM(TRANSFORM(ARRAY(' ', CONCAT(CHR(37), '20'), CHR(43)), ch -> CONCAT('rm', ch)), word -> INT(INSTR(LOWER(IF(ISNULL(payload), '', payload)), word))), 0, (x1, x2) -> x1+x2)>0, 1, 0) AS ips_00059_payload_cmd_rm_flag\n",
    "\n",
    "\n",
    "        FROM table\n",
    "\n",
    "\n",
    "\"\"\""
   ]
  },
  {
   "cell_type": "code",
   "execution_count": 9,
   "metadata": {},
   "outputs": [],
   "source": [
    "# 쿼리 실행하고, 결과 데이터 프레임에 저장\n",
    "output_df = session.sql(query_1) #<==== 쿼리를 실행하는 부분\n",
    "output_df_2 = session.sql(query_2) #<==== 쿼리를 실행하는 부분"
   ]
  },
  {
   "cell_type": "code",
   "execution_count": 10,
   "metadata": {},
   "outputs": [
    {
     "name": "stderr",
     "output_type": "stream",
     "text": [
      "22/01/21 21:29:25 WARN TaskSetManager: Stage 0 contains a task of very large size (82782 KiB). The maximum recommended task size is 1000 KiB.\n",
      "22/01/21 21:29:31 WARN package: Truncated the string representation of a plan since it was too large. This behavior can be adjusted by setting 'spark.sql.debug.maxToStringFields'.\n",
      "22/01/21 21:29:32 WARN TaskSetManager: Stage 1 contains a task of very large size (82782 KiB). The maximum recommended task size is 1000 KiB.\n",
      "                                                                                \r"
     ]
    },
    {
     "name": "stdout",
     "output_type": "stream",
     "text": [
      "전처리 데이터 크기:  (200000, 48)\n",
      "전처리 데이터 샘플:         label  ips_00013_payload_length_value  \\\n",
      "0          O                             391   \n",
      "1          O                             758   \n",
      "2          X                             411   \n",
      "3          O                              43   \n",
      "4          O                              58   \n",
      "...      ...                             ...   \n",
      "199995     O                              43   \n",
      "199996     O                              56   \n",
      "199997     O                             173   \n",
      "199998     O                              94   \n",
      "199999     O                              55   \n",
      "\n",
      "        ips_00014_payload_logscaled_length_value  \\\n",
      "0                                              5   \n",
      "1                                              6   \n",
      "2                                              6   \n",
      "3                                              3   \n",
      "4                                              4   \n",
      "...                                          ...   \n",
      "199995                                         3   \n",
      "199996                                         4   \n",
      "199997                                         5   \n",
      "199998                                         4   \n",
      "199999                                         4   \n",
      "\n",
      "        ips_00015_payload_sys_manager_flag  \\\n",
      "0                                        0   \n",
      "1                                        0   \n",
      "2                                        0   \n",
      "3                                        0   \n",
      "4                                        0   \n",
      "...                                    ...   \n",
      "199995                                   0   \n",
      "199996                                   0   \n",
      "199997                                   0   \n",
      "199998                                   0   \n",
      "199999                                   0   \n",
      "\n",
      "        ips_00016_payload_sys_console_flag  ips_00017_payload_sys_admin_flag  \\\n",
      "0                                        0                                 0   \n",
      "1                                        0                                 0   \n",
      "2                                        0                                 0   \n",
      "3                                        0                                 0   \n",
      "4                                        0                                 0   \n",
      "...                                    ...                               ...   \n",
      "199995                                   0                                 0   \n",
      "199996                                   0                                 0   \n",
      "199997                                   0                                 0   \n",
      "199998                                   0                                 0   \n",
      "199999                                   0                                 0   \n",
      "\n",
      "        ips_00018_payload_sys_setup_flag  ips_00019_payload_sys_config_flag  \\\n",
      "0                                      0                                  0   \n",
      "1                                      0                                  0   \n",
      "2                                      0                                  0   \n",
      "3                                      0                                  0   \n",
      "4                                      0                                  0   \n",
      "...                                  ...                                ...   \n",
      "199995                                 0                                  0   \n",
      "199996                                 0                                  0   \n",
      "199997                                 0                                  0   \n",
      "199998                                 0                                  0   \n",
      "199999                                 0                                  0   \n",
      "\n",
      "        ips_00020_payload_sys_server_flag  \\\n",
      "0                                       0   \n",
      "1                                       0   \n",
      "2                                       0   \n",
      "3                                       0   \n",
      "4                                       0   \n",
      "...                                   ...   \n",
      "199995                                  0   \n",
      "199996                                  0   \n",
      "199997                                  0   \n",
      "199998                                  0   \n",
      "199999                                  0   \n",
      "\n",
      "        ips_00021_payload_char_single_quotation_cnt  ...  \\\n",
      "0                                                 0  ...   \n",
      "1                                                 0  ...   \n",
      "2                                                 0  ...   \n",
      "3                                                 0  ...   \n",
      "4                                                 1  ...   \n",
      "...                                             ...  ...   \n",
      "199995                                            1  ...   \n",
      "199996                                            0  ...   \n",
      "199997                                            0  ...   \n",
      "199998                                            0  ...   \n",
      "199999                                            0  ...   \n",
      "\n",
      "        ips_00050_payload_cmd_config_flag  ips_00051_payload_cmd_ls_flag  \\\n",
      "0                                       0                              0   \n",
      "1                                       0                              0   \n",
      "2                                       0                              0   \n",
      "3                                       0                              0   \n",
      "4                                       0                              0   \n",
      "...                                   ...                            ...   \n",
      "199995                                  0                              0   \n",
      "199996                                  0                              0   \n",
      "199997                                  0                              0   \n",
      "199998                                  0                              0   \n",
      "199999                                  0                              0   \n",
      "\n",
      "        ips_00052_payload_cmd_mkdir_flag  ips_00053_payload_cmd_netstat_flag  \\\n",
      "0                                      0                                   0   \n",
      "1                                      0                                   0   \n",
      "2                                      0                                   0   \n",
      "3                                      0                                   0   \n",
      "4                                      0                                   0   \n",
      "...                                  ...                                 ...   \n",
      "199995                                 0                                   0   \n",
      "199996                                 0                                   0   \n",
      "199997                                 0                                   0   \n",
      "199998                                 0                                   0   \n",
      "199999                                 0                                   0   \n",
      "\n",
      "        ips_00054_payload_cmd_ftp_flag  ips_00055_payload_cmd_cat_flag  \\\n",
      "0                                    0                               0   \n",
      "1                                    0                               0   \n",
      "2                                    0                               0   \n",
      "3                                    0                               0   \n",
      "4                                    0                               0   \n",
      "...                                ...                             ...   \n",
      "199995                               0                               0   \n",
      "199996                               0                               0   \n",
      "199997                               0                               0   \n",
      "199998                               0                               0   \n",
      "199999                               0                               0   \n",
      "\n",
      "        ips_00056_payload_cmd_dir_flag  ips_00057_payload_cmd_wget_flag  \\\n",
      "0                                    0                                0   \n",
      "1                                    0                                0   \n",
      "2                                    0                                0   \n",
      "3                                    0                                0   \n",
      "4                                    0                                0   \n",
      "...                                ...                              ...   \n",
      "199995                               0                                0   \n",
      "199996                               0                                0   \n",
      "199997                               0                                0   \n",
      "199998                               0                                0   \n",
      "199999                               0                                0   \n",
      "\n",
      "        ips_00058_payload_cmd_echo_flag  ips_00059_payload_cmd_rm_flag  \n",
      "0                                     0                              0  \n",
      "1                                     0                              0  \n",
      "2                                     0                              0  \n",
      "3                                     0                              0  \n",
      "4                                     0                              0  \n",
      "...                                 ...                            ...  \n",
      "199995                                0                              0  \n",
      "199996                                0                              0  \n",
      "199997                                0                              0  \n",
      "199998                                0                              0  \n",
      "199999                                0                              0  \n",
      "\n",
      "[200000 rows x 48 columns]\n"
     ]
    }
   ],
   "source": [
    "sql_result_df = output_df.toPandas()\n",
    "sql_result_df_2 = output_df_2.toPandas()\n",
    "\n",
    "sql_result_df_result = pd.concat([sql_result_df, sql_result_df_2], axis = 1)\n",
    "\n",
    "sql_result_df_result['ips_00014_payload_logscaled_length_value'] = sql_result_df_result['ips_00014_payload_logscaled_length_value'].astype(int)\n",
    "\n",
    "print('전처리 데이터 크기: ', sql_result_df_result.shape)\n",
    "print('전처리 데이터 샘플: ', sql_result_df_result)"
   ]
  },
  {
   "cell_type": "code",
   "execution_count": 11,
   "metadata": {},
   "outputs": [
    {
     "data": {
      "text/plain": [
       "Index(['label', 'ips_00013_payload_length_value',\n",
       "       'ips_00014_payload_logscaled_length_value',\n",
       "       'ips_00015_payload_sys_manager_flag',\n",
       "       'ips_00016_payload_sys_console_flag',\n",
       "       'ips_00017_payload_sys_admin_flag', 'ips_00018_payload_sys_setup_flag',\n",
       "       'ips_00019_payload_sys_config_flag',\n",
       "       'ips_00020_payload_sys_server_flag',\n",
       "       'ips_00021_payload_char_single_quotation_cnt',\n",
       "       'ips_00022_payload_char_double_quotation_cnt',\n",
       "       'ips_00023_payload_char_equal_cnt', 'ips_00024_payload_char_plus_cnt',\n",
       "       'ips_00025_payload_char_star_cnt', 'ips_00026_payload_char_slush_cnt',\n",
       "       'ips_00027_payload_char_lt_cnt', 'ips_00028_payload_char_at_cnt',\n",
       "       'ips_00029_payload_char_parent_cnt',\n",
       "       'ips_00030_payload_char_bracket_cnt',\n",
       "       'ips_00031_payload_char_dollar_cnt',\n",
       "       'ips_00032_payload_char_double_dot_cnt',\n",
       "       'ips_00033_payload_sql_and_flag', 'ips_00034_payload_sql_or_flag',\n",
       "       'ips_00035_payload_sql_select_flag', 'ips_00036_payload_sql_from_flag',\n",
       "       'ips_00037_payload_sql_cast_flag', 'ips_00038_payload_sql_union_flag',\n",
       "       'ips_00039_payload_sql_eval_flag', 'ips_00040_payload_sql_char_flag',\n",
       "       'ips_00041_payload_sql_base64_flag',\n",
       "       'ips_00042_payload_sql_declare_flag',\n",
       "       'ips_00043_payload_xss_alert_flag', 'ips_00044_payload_xss_script_flag',\n",
       "       'ips_00045_payload_xss_document_flag',\n",
       "       'ips_00046_payload_xss_onmouseover_flag',\n",
       "       'ips_00047_payload_xss_onload_flag', 'ips_00048_payload_cmd_cmd_flag',\n",
       "       'ips_00049_payload_cmd_run_flag', 'ips_00050_payload_cmd_config_flag',\n",
       "       'ips_00051_payload_cmd_ls_flag', 'ips_00052_payload_cmd_mkdir_flag',\n",
       "       'ips_00053_payload_cmd_netstat_flag', 'ips_00054_payload_cmd_ftp_flag',\n",
       "       'ips_00055_payload_cmd_cat_flag', 'ips_00056_payload_cmd_dir_flag',\n",
       "       'ips_00057_payload_cmd_wget_flag', 'ips_00058_payload_cmd_echo_flag',\n",
       "       'ips_00059_payload_cmd_rm_flag'],\n",
       "      dtype='object')"
      ]
     },
     "execution_count": 11,
     "metadata": {},
     "output_type": "execute_result"
    }
   ],
   "source": [
    "sql_result_df_result.columns"
   ]
  },
  {
   "cell_type": "code",
   "execution_count": 12,
   "metadata": {},
   "outputs": [
    {
     "data": {
      "text/plain": [
       "(200000, 48)"
      ]
     },
     "execution_count": 12,
     "metadata": {},
     "output_type": "execute_result"
    }
   ],
   "source": [
    "sql_result_df_result.shape"
   ]
  },
  {
   "cell_type": "code",
   "execution_count": 14,
   "metadata": {},
   "outputs": [],
   "source": [
    "# sql_result_df_result.to_csv('IPS_payload_200000_sql_result_df_result.csv', index = False, sep = ',')"
   ]
  },
  {
   "cell_type": "code",
   "execution_count": null,
   "metadata": {},
   "outputs": [],
   "source": []
  }
 ],
 "metadata": {
  "interpreter": {
   "hash": "4394eee0fff6724ce505428e0bf45950592091024b5e821af64edaa1085e7223"
  },
  "kernelspec": {
   "display_name": "Python 3.8.11 64-bit ('newenv': conda)",
   "language": "python",
   "name": "python3"
  },
  "language_info": {
   "codemirror_mode": {
    "name": "ipython",
    "version": 3
   },
   "file_extension": ".py",
   "mimetype": "text/x-python",
   "name": "python",
   "nbconvert_exporter": "python",
   "pygments_lexer": "ipython3",
   "version": "3.8.11"
  },
  "orig_nbformat": 4
 },
 "nbformat": 4,
 "nbformat_minor": 2
}
