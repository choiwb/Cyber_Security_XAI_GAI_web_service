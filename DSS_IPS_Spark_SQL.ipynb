{
 "cells": [
  {
   "cell_type": "code",
   "execution_count": 1,
   "metadata": {},
   "outputs": [],
   "source": [
    "import pandas as pd, numpy as np\n",
    "import pyspark\n",
    "from pyspark.sql import SparkSession\n",
    "from pyspark import SparkContext\n",
    "from pyspark.sql.types import *"
   ]
  },
  {
   "cell_type": "code",
   "execution_count": 2,
   "metadata": {},
   "outputs": [
    {
     "data": {
      "text/plain": [
       "Index(['payload', 'label', 'ips_00001_payload_base64',\n",
       "       'ips_00001_payload_sql_comb_01', 'ips_00001_payload_sql_comb_02',\n",
       "       'ips_00001_payload_sql_comb_03', 'ips_00001_payload_xss_comb_01',\n",
       "       'ips_00001_payload_cmd_comb_01', 'ips_00001_payload_log4j_comb_01',\n",
       "       'ips_00001_payload_word_comb_01', 'ips_00001_payload_word_comb_02',\n",
       "       'ips_00001_payload_word_comb_03', 'ips_00001_payload_wp_comb_01',\n",
       "       'ips_00001_payload_word_comb_04', 'ips_00001_payload_useragent_comb',\n",
       "       'ips_00001_payload_whitelist'],\n",
       "      dtype='object')"
      ]
     },
     "execution_count": 2,
     "metadata": {},
     "output_type": "execute_result"
    }
   ],
   "source": [
    "# raw_data_df = pd.read_csv('IPS_payload_200000_df.csv')\n",
    "# raw_data_df = pd.read_csv('mss_20220304.csv', encoding = 'CP949')\n",
    "raw_data_df = pd.read_csv('IPS_XAI_deploy_20221201.csv')\n",
    "\n",
    "raw_data_df.columns"
   ]
  },
  {
   "cell_type": "code",
   "execution_count": 3,
   "metadata": {},
   "outputs": [
    {
     "name": "stdout",
     "output_type": "stream",
     "text": [
      "(28380, 16)\n",
      "payload                             1012\n",
      "label                                  0\n",
      "ips_00001_payload_base64               0\n",
      "ips_00001_payload_sql_comb_01          0\n",
      "ips_00001_payload_sql_comb_02          0\n",
      "ips_00001_payload_sql_comb_03          0\n",
      "ips_00001_payload_xss_comb_01          0\n",
      "ips_00001_payload_cmd_comb_01          0\n",
      "ips_00001_payload_log4j_comb_01        0\n",
      "ips_00001_payload_word_comb_01         0\n",
      "ips_00001_payload_word_comb_02         0\n",
      "ips_00001_payload_word_comb_03         0\n",
      "ips_00001_payload_wp_comb_01           0\n",
      "ips_00001_payload_word_comb_04         0\n",
      "ips_00001_payload_useragent_comb       0\n",
      "ips_00001_payload_whitelist            0\n",
      "dtype: int64\n"
     ]
    }
   ],
   "source": [
    "print(raw_data_df.shape)\n",
    "print(raw_data_df.isna().sum())"
   ]
  },
  {
   "cell_type": "code",
   "execution_count": 4,
   "metadata": {},
   "outputs": [],
   "source": [
    "raw_data_df = raw_data_df[['payload', 'label']]"
   ]
  },
  {
   "cell_type": "code",
   "execution_count": 5,
   "metadata": {},
   "outputs": [],
   "source": [
    "raw_data_df['payload'] = raw_data_df['payload'].str.replace('abcde', 'webpage', regex = False)"
   ]
  },
  {
   "cell_type": "code",
   "execution_count": 6,
   "metadata": {},
   "outputs": [],
   "source": [
    "import os\n",
    "# java 경로 및 spark 메모리 설정\n",
    "java11_location= '/opt/homebrew/opt/openjdk@11'\n",
    "os.environ['JAVA_HOME'] = java11_location\n",
    "os.environ['SPARK_MEM'] = '8g'\n",
    "os.environ['SPARK_HOME'] = \"/opt/homebrew/Cellar/apache-spark/3.3.0/libexec\""
   ]
  },
  {
   "cell_type": "code",
   "execution_count": 7,
   "metadata": {},
   "outputs": [
    {
     "name": "stderr",
     "output_type": "stream",
     "text": [
      "Setting default log level to \"WARN\".\n",
      "To adjust logging level use sc.setLogLevel(newLevel). For SparkR, use setLogLevel(newLevel).\n"
     ]
    },
    {
     "name": "stdout",
     "output_type": "stream",
     "text": [
      "23/03/10 22:33:01 WARN NativeCodeLoader: Unable to load native-hadoop library for your platform... using builtin-java classes where applicable\n",
      "23/03/10 22:33:01 WARN SparkContext: Using SPARK_MEM to set amount of memory to use per executor process is deprecated, please use spark.executor.memory instead.\n"
     ]
    },
    {
     "data": {
      "text/plain": [
       "[('spark.master', 'local'),\n",
       " ('spark.driver.extraJavaOptions',\n",
       "  '-XX:+IgnoreUnrecognizedVMOptions --add-opens=java.base/java.lang=ALL-UNNAMED --add-opens=java.base/java.lang.invoke=ALL-UNNAMED --add-opens=java.base/java.lang.reflect=ALL-UNNAMED --add-opens=java.base/java.io=ALL-UNNAMED --add-opens=java.base/java.net=ALL-UNNAMED --add-opens=java.base/java.nio=ALL-UNNAMED --add-opens=java.base/java.util=ALL-UNNAMED --add-opens=java.base/java.util.concurrent=ALL-UNNAMED --add-opens=java.base/java.util.concurrent.atomic=ALL-UNNAMED --add-opens=java.base/sun.nio.ch=ALL-UNNAMED --add-opens=java.base/sun.nio.cs=ALL-UNNAMED --add-opens=java.base/sun.security.action=ALL-UNNAMED --add-opens=java.base/sun.util.calendar=ALL-UNNAMED --add-opens=java.security.jgss/sun.security.krb5=ALL-UNNAMED'),\n",
       " ('spark.app.submitTime', '1678455180956'),\n",
       " ('spark.executor.id', 'driver'),\n",
       " ('spark.driver.host', 'localhost'),\n",
       " ('spark.driver.port', '54503'),\n",
       " ('spark.app.startTime', '1678455181069'),\n",
       " ('spark.app.id', 'local-1678455181663'),\n",
       " ('spark.app.name', 'prep_data'),\n",
       " ('spark.rdd.compress', 'True'),\n",
       " ('spark.executor.extraJavaOptions',\n",
       "  '-XX:+IgnoreUnrecognizedVMOptions --add-opens=java.base/java.lang=ALL-UNNAMED --add-opens=java.base/java.lang.invoke=ALL-UNNAMED --add-opens=java.base/java.lang.reflect=ALL-UNNAMED --add-opens=java.base/java.io=ALL-UNNAMED --add-opens=java.base/java.net=ALL-UNNAMED --add-opens=java.base/java.nio=ALL-UNNAMED --add-opens=java.base/java.util=ALL-UNNAMED --add-opens=java.base/java.util.concurrent=ALL-UNNAMED --add-opens=java.base/java.util.concurrent.atomic=ALL-UNNAMED --add-opens=java.base/sun.nio.ch=ALL-UNNAMED --add-opens=java.base/sun.nio.cs=ALL-UNNAMED --add-opens=java.base/sun.security.action=ALL-UNNAMED --add-opens=java.base/sun.util.calendar=ALL-UNNAMED --add-opens=java.security.jgss/sun.security.krb5=ALL-UNNAMED'),\n",
       " ('spark.serializer.objectStreamReset', '100'),\n",
       " ('spark.submit.pyFiles', ''),\n",
       " ('spark.submit.deployMode', 'client'),\n",
       " ('spark.ui.showConsoleProgress', 'true')]"
      ]
     },
     "execution_count": 7,
     "metadata": {},
     "output_type": "execute_result"
    }
   ],
   "source": [
    "# 초기 spark session 확인\n",
    "sc = SparkContext(master=\"local\", appName=\"prep_data\")\n",
    "sc.getConf().getAll()"
   ]
  },
  {
   "cell_type": "code",
   "execution_count": 8,
   "metadata": {},
   "outputs": [],
   "source": [
    "# spark 메모리 확장\n",
    "config = pyspark.SparkConf().setAll(\n",
    "            [('spark.executor.memory', '8g'),\n",
    "            ('spark.driver.memory','8g'),\n",
    "            ('spark.driver.maxResultSize', '8g')\n",
    "            ])"
   ]
  },
  {
   "cell_type": "code",
   "execution_count": 9,
   "metadata": {},
   "outputs": [],
   "source": [
    "# 기존 spark session 종료\n",
    "sc.stop()"
   ]
  },
  {
   "cell_type": "code",
   "execution_count": 10,
   "metadata": {},
   "outputs": [
    {
     "data": {
      "text/plain": [
       "[('spark.driver.extraJavaOptions',\n",
       "  '-XX:+IgnoreUnrecognizedVMOptions --add-opens=java.base/java.lang=ALL-UNNAMED --add-opens=java.base/java.lang.invoke=ALL-UNNAMED --add-opens=java.base/java.lang.reflect=ALL-UNNAMED --add-opens=java.base/java.io=ALL-UNNAMED --add-opens=java.base/java.net=ALL-UNNAMED --add-opens=java.base/java.nio=ALL-UNNAMED --add-opens=java.base/java.util=ALL-UNNAMED --add-opens=java.base/java.util.concurrent=ALL-UNNAMED --add-opens=java.base/java.util.concurrent.atomic=ALL-UNNAMED --add-opens=java.base/sun.nio.ch=ALL-UNNAMED --add-opens=java.base/sun.nio.cs=ALL-UNNAMED --add-opens=java.base/sun.security.action=ALL-UNNAMED --add-opens=java.base/sun.util.calendar=ALL-UNNAMED --add-opens=java.security.jgss/sun.security.krb5=ALL-UNNAMED'),\n",
       " ('spark.app.submitTime', '1678455180956'),\n",
       " ('spark.executor.id', 'driver'),\n",
       " ('spark.driver.host', 'localhost'),\n",
       " ('spark.app.id', 'local-1678455184238'),\n",
       " ('spark.app.name', 'pyspark-shell'),\n",
       " ('spark.driver.maxResultSize', '8g'),\n",
       " ('spark.rdd.compress', 'True'),\n",
       " ('spark.executor.extraJavaOptions',\n",
       "  '-XX:+IgnoreUnrecognizedVMOptions --add-opens=java.base/java.lang=ALL-UNNAMED --add-opens=java.base/java.lang.invoke=ALL-UNNAMED --add-opens=java.base/java.lang.reflect=ALL-UNNAMED --add-opens=java.base/java.io=ALL-UNNAMED --add-opens=java.base/java.net=ALL-UNNAMED --add-opens=java.base/java.nio=ALL-UNNAMED --add-opens=java.base/java.util=ALL-UNNAMED --add-opens=java.base/java.util.concurrent=ALL-UNNAMED --add-opens=java.base/java.util.concurrent.atomic=ALL-UNNAMED --add-opens=java.base/sun.nio.ch=ALL-UNNAMED --add-opens=java.base/sun.nio.cs=ALL-UNNAMED --add-opens=java.base/sun.security.action=ALL-UNNAMED --add-opens=java.base/sun.util.calendar=ALL-UNNAMED --add-opens=java.security.jgss/sun.security.krb5=ALL-UNNAMED'),\n",
       " ('spark.driver.memory', '8g'),\n",
       " ('spark.serializer.objectStreamReset', '100'),\n",
       " ('spark.master', 'local[*]'),\n",
       " ('spark.executor.memory', '8g'),\n",
       " ('spark.submit.pyFiles', ''),\n",
       " ('spark.app.startTime', '1678455184199'),\n",
       " ('spark.submit.deployMode', 'client'),\n",
       " ('spark.ui.showConsoleProgress', 'true'),\n",
       " ('spark.driver.port', '54583')]"
      ]
     },
     "execution_count": 10,
     "metadata": {},
     "output_type": "execute_result"
    }
   ],
   "source": [
    "sc = pyspark.SparkContext(conf=config)\n",
    "# 변경된 spark session의 config 확인\n",
    "sc.getConf().getAll()"
   ]
  },
  {
   "cell_type": "code",
   "execution_count": 11,
   "metadata": {},
   "outputs": [],
   "source": [
    "# 변경된 spark session 시작\n",
    "session = SparkSession(sc)"
   ]
  },
  {
   "cell_type": "code",
   "execution_count": 12,
   "metadata": {},
   "outputs": [
    {
     "name": "stdout",
     "output_type": "stream",
     "text": [
      "root\n",
      " |-- payload: string (nullable = true)\n",
      " |-- label: string (nullable = true)\n",
      "\n"
     ]
    }
   ],
   "source": [
    "schema = StructType([StructField(\"payload\", StringType(), True)\\\n",
    "                    ,StructField(\"label\", StringType(), True)\n",
    "                ])\n",
    "\n",
    "# 데이터 프레임 등록\n",
    "domain_df = session.createDataFrame(raw_data_df, schema=schema)\n",
    "\n",
    "# 현재 스키마 정보 확인\n",
    "domain_df.printSchema()\n",
    "\n",
    "# 데이터 프레임 'table'이라는 이름으로 SQL테이블 생성\n",
    "domain_df.createOrReplaceTempView(\"table\") #<=== SparkSQL에 생성된 테이블 이름"
   ]
  },
  {
   "cell_type": "code",
   "execution_count": 13,
   "metadata": {},
   "outputs": [],
   "source": [
    "query_1 = \"\"\"\n",
    "\n",
    "        SELECT  payload, label,\n",
    "\n",
    "        CHAR_LENGTH(IF(ISNULL(payload) OR (LOWER(payload) IN (\"\", \" \", \"-\", \"null\", \"nan\")), \"\", payload)) AS ips_00013_payload_length_value,\n",
    "\n",
    "        IF(CHAR_LENGTH(IF(ISNULL(payload) OR (LOWER(payload) IN (\"\", \" \", \"-\", \"null\", \"nan\")), \"\", payload))<1, 0, LN(CHAR_LENGTH(IF(ISNULL(payload) OR (LOWER(payload) IN (\"\", \" \", \"-\", \"null\", \"nan\")), \"\", payload)))) AS ips_00014_payload_logscaled_length_value,\n",
    "\n",
    "        IF(INSTR(LOWER(IF(ISNULL(payload), \"\", payload)), \"manager\")>0, 1, 0) AS ips_00015_payload_sys_manager_flag,\n",
    "\n",
    "        IF(INSTR(LOWER(IF(ISNULL(payload), \"\", payload)), \"console\")>0, 1, 0) AS ips_00016_payload_sys_console_flag,\n",
    "\n",
    "        IF(INSTR(LOWER(IF(ISNULL(payload), \"\", payload)), \"admin\")>0, 1, 0) AS ips_00017_payload_sys_admin_flag,\n",
    "\n",
    "        IF(INSTR(LOWER(IF(ISNULL(payload), \"\", payload)), \"setup\")>0, 1, 0) AS ips_00018_payload_sys_setup_flag,\n",
    "\n",
    "        IF(INSTR(LOWER(IF(ISNULL(payload), \"\", payload)), \"config\")>0, 1, 0) AS ips_00019_payload_sys_config_flag,\n",
    "\n",
    "        IF(INSTR(LOWER(IF(ISNULL(payload), \"\", payload)), \"server\")>0, 1, 0) AS ips_00020_payload_sys_server_flag,\n",
    "\n",
    "        SIZE(SPLIT(IF(ISNULL(payload), \"\", payload), \"[\\']\"))-1 AS ips_00021_payload_char_single_quotation_cnt,\n",
    "\n",
    "        SIZE(SPLIT(IF(ISNULL(payload), '', payload), '[\\\"]'))-1 AS ips_00022_payload_char_double_quotation_cnt,\n",
    "\n",
    "        SIZE(SPLIT(IF(ISNULL(payload), '', payload), '[\\\\=]')) - SIZE(SPLIT(IF(ISNULL(payload), '', payload), '[\\\\&]')) AS ips_00023_payload_char_equal_cnt,\n",
    "\n",
    "        SIZE(SPLIT(IF(ISNULL(payload), '', payload), '[\\\\+]'))-1 AS ips_00024_payload_char_plus_cnt,\n",
    "\n",
    "        SIZE(SPLIT(IF(ISNULL(payload), '', payload), '[\\\\*]'))-1 AS ips_00025_payload_char_star_cnt,\n",
    "\n",
    "        SIZE(SPLIT(IF(ISNULL(payload), '', payload), '[\\\\/]'))-1 AS ips_00026_payload_char_slush_cnt,\n",
    "\n",
    "        SIZE(SPLIT(IF(ISNULL(payload), '', payload), '[\\\\<]'))-1 AS ips_00027_payload_char_lt_cnt,\n",
    "\n",
    "        SIZE(SPLIT(IF(ISNULL(payload), '', payload), '[\\\\@]'))-1 AS ips_00028_payload_char_at_cnt,\n",
    "\n",
    "        SIZE(SPLIT(IF(ISNULL(payload), '', payload), '[\\\\(]'))-1 AS ips_00029_payload_char_parent_cnt,\n",
    "\n",
    "        SIZE(SPLIT(IF(ISNULL(payload), '', payload), '[\\\\{]'))-1 AS ips_00030_payload_char_bracket_cnt,\n",
    "\n",
    "        SIZE(SPLIT(IF(ISNULL(payload), '', payload), '[\\\\$]'))-1 AS ips_00031_payload_char_dollar_cnt,\n",
    "\n",
    "        SIZE(SPLIT(IF(ISNULL(payload), '', payload), '[\\\\.][\\\\.]'))-1 AS ips_00032_payload_char_double_dot_cnt\n",
    "\n",
    "        FROM table\n",
    "\n",
    "\"\"\""
   ]
  },
  {
   "cell_type": "code",
   "execution_count": 14,
   "metadata": {},
   "outputs": [],
   "source": [
    "query_2 = \"\"\"\n",
    "\n",
    "        SELECT\n",
    "\n",
    "        IF(AGGREGATE(TRANSFORM(TRANSFORM(ARRAY(' ', CONCAT(CHR(37), '20'), CHR(43)), ch -> CONCAT(ch, 'and', ch)), word -> INT(INSTR(LOWER(IF(ISNULL(payload), '', payload)), word))), 0, (x1, x2) -> x1+x2)>0, 1, 0) AS ips_00033_payload_sql_and_flag,\n",
    "\n",
    "        IF(AGGREGATE(TRANSFORM(TRANSFORM(ARRAY(' ', CONCAT(CHR(37), '20'), CHR(43)), ch -> CONCAT(ch, 'or', ch)), word -> INT(INSTR(LOWER(IF(ISNULL(payload), '', payload)), word))), 0, (x1, x2) -> x1+x2)>0, 1, 0) AS ips_00034_payload_sql_or_flag,\n",
    "\n",
    "        IF(AGGREGATE(TRANSFORM(TRANSFORM(ARRAY(' ', CONCAT(CHR(37), '20'), CHR(43)), ch -> CONCAT(ch, 'select', ch)), word -> INT(INSTR(LOWER(IF(ISNULL(payload), '', payload)), word))), 0, (x1, x2) -> x1+x2)>0, 1, 0) AS ips_00035_payload_sql_select_flag,\n",
    "\n",
    "        IF(AGGREGATE(TRANSFORM(TRANSFORM(ARRAY(' ', CONCAT(CHR(37), '20'), CHR(43)), ch -> CONCAT(ch, 'from', ch)), word -> INT(INSTR(LOWER(IF(ISNULL(payload), '', payload)), word))), 0, (x1, x2) -> x1+x2)>0, 1, 0) AS ips_00036_payload_sql_from_flag,\n",
    "\n",
    "        IF(INSTR(LOWER(IF(ISNULL(payload), '', payload)), CONCAT('cast', CHR(40)))>0, 1, 0) AS ips_00037_payload_sql_cast_flag,\n",
    "\n",
    "        IF(AGGREGATE(TRANSFORM(TRANSFORM(ARRAY(' ', CONCAT(CHR(37), '20'), CHR(43)), ch -> CONCAT('union', ch)), word -> INT(INSTR(LOWER(IF(ISNULL(payload), '', payload)), word))), 0, (x1, x2) -> x1+x2)>0, 1, 0) AS ips_00038_payload_sql_union_flag,\n",
    "\n",
    "        IF(INSTR(LOWER(IF(ISNULL(payload), '', payload)), CONCAT('eval', CHR(40)))>0, 1, 0) AS ips_00039_payload_sql_eval_flag,\n",
    "\n",
    "        IF(INSTR(LOWER(IF(ISNULL(payload), '', payload)), CONCAT('char', CHR(40)))>0, 1, 0) AS ips_00040_payload_sql_char_flag,\n",
    "\n",
    "        IF(INSTR(LOWER(IF(ISNULL(payload), '', payload)), CONCAT('base64', CHR(40)))>0, 1, 0) AS ips_00041_payload_sql_base64_flag,\n",
    "\n",
    "        IF(AGGREGATE(TRANSFORM(TRANSFORM(ARRAY(' ', CONCAT(CHR(37), '20'), CHR(43)), ch -> CONCAT('declare', ch)), word -> INT(INSTR(LOWER(IF(ISNULL(payload), '', payload)), word))), 0, (x1, x2) -> x1+x2)>0, 1, 0) AS ips_00042_payload_sql_declare_flag,\n",
    "\n",
    "        IF(INSTR(LOWER(IF(ISNULL(payload), '', payload)), 'alert')>0, 1, 0) AS ips_00043_payload_xss_alert_flag,\n",
    "\n",
    "        IF(INSTR(LOWER(IF(ISNULL(payload), '', payload)), 'script')>0, 1, 0) AS ips_00044_payload_xss_script_flag,\n",
    "\n",
    "        IF(INSTR(LOWER(IF(ISNULL(payload), '', payload)), 'document')>0, 1, 0) AS ips_00045_payload_xss_document_flag,\n",
    "\n",
    "        IF(INSTR(LOWER(IF(ISNULL(payload), '', payload)), 'onmouseover')>0, 1, 0) AS ips_00046_payload_xss_onmouseover_flag,\n",
    "\n",
    "        IF(INSTR(LOWER(IF(ISNULL(payload), '', payload)), 'onload')>0, 1, 0) AS ips_00047_payload_xss_onload_flag,\n",
    "\n",
    "        IF(AGGREGATE(TRANSFORM(TRANSFORM(ARRAY(' ', CONCAT(CHR(37), '20'), CHR(43)), ch -> CONCAT('cmd', ch)), word -> INT(INSTR(LOWER(IF(ISNULL(payload), '', payload)), word))), 0, (x1, x2) -> x1+x2)>0, 1, 0) AS ips_00048_payload_cmd_cmd_flag,\n",
    "\n",
    "        IF(AGGREGATE(TRANSFORM(TRANSFORM(ARRAY(' ', CONCAT(CHR(37), '20'), CHR(43)), ch -> CONCAT('run', ch)), word -> INT(INSTR(LOWER(IF(ISNULL(payload), '', payload)), word))), 0, (x1, x2) -> x1+x2)>0, 1, 0) AS ips_00049_payload_cmd_run_flag,\n",
    "\n",
    "        IF(AGGREGATE(TRANSFORM(TRANSFORM(ARRAY(' ', CONCAT(CHR(37), '20'), CHR(43)), ch -> CONCAT('config', ch)), word -> INT(INSTR(LOWER(IF(ISNULL(payload), '', payload)), word))), 0, (x1, x2) -> x1+x2)>0, 1, 0) AS ips_00050_payload_cmd_config_flag,\n",
    "\n",
    "        IF(AGGREGATE(TRANSFORM(TRANSFORM(ARRAY(' ', CONCAT(CHR(37), '20'), CHR(43)), ch -> CONCAT('ls', ch)), word -> INT(INSTR(LOWER(IF(ISNULL(payload), '', payload)), word))), 0, (x1, x2) -> x1+x2)>0, 1, 0) AS ips_00051_payload_cmd_ls_flag,\n",
    "\n",
    "        IF(AGGREGATE(TRANSFORM(TRANSFORM(ARRAY(' ', CONCAT(CHR(37), '20'), CHR(43)), ch -> CONCAT('mkdir', ch)), word -> INT(INSTR(LOWER(IF(ISNULL(payload), '', payload)), word))), 0, (x1, x2) -> x1+x2)>0, 1, 0) AS ips_00052_payload_cmd_mkdir_flag,\n",
    "\n",
    "        IF(AGGREGATE(TRANSFORM(TRANSFORM(ARRAY(' ', CONCAT(CHR(37), '20'), CHR(43)), ch -> CONCAT('netstat', ch)), word -> INT(INSTR(LOWER(IF(ISNULL(payload), '', payload)), word))), 0, (x1, x2) -> x1+x2)>0, 1, 0) AS ips_00053_payload_cmd_netstat_flag,\n",
    "\n",
    "        IF(AGGREGATE(TRANSFORM(TRANSFORM(ARRAY(' ', CONCAT(CHR(37), '20'), CHR(43)), ch -> CONCAT('ftp', ch)), word -> INT(INSTR(LOWER(IF(ISNULL(payload), '', payload)), word))), 0, (x1, x2) -> x1+x2)>0, 1, 0) AS ips_00054_payload_cmd_ftp_flag,\n",
    "\n",
    "        IF(AGGREGATE(TRANSFORM(TRANSFORM(ARRAY(' ', CONCAT(CHR(37), '20'), CHR(43)), ch -> CONCAT('cat', ch)), word -> INT(INSTR(LOWER(IF(ISNULL(payload), '', payload)), word))), 0, (x1, x2) -> x1+x2)>0, 1, 0) AS ips_00055_payload_cmd_cat_flag,\n",
    "\n",
    "        IF(AGGREGATE(TRANSFORM(TRANSFORM(ARRAY(' ', CONCAT(CHR(37), '20'), CHR(43)), ch -> CONCAT('dir', ch)), word -> INT(INSTR(LOWER(IF(ISNULL(payload), '', payload)), word))), 0, (x1, x2) -> x1+x2)>0, 1, 0) AS ips_00056_payload_cmd_dir_flag,\n",
    "\n",
    "        IF(AGGREGATE(TRANSFORM(TRANSFORM(ARRAY(' ', CONCAT(CHR(37), '20'), CHR(43)), ch -> CONCAT('wget', ch)), word -> INT(INSTR(LOWER(IF(ISNULL(payload), '', payload)), word))), 0, (x1, x2) -> x1+x2)>0, 1, 0) AS ips_00057_payload_cmd_wget_flag,\n",
    "\n",
    "        IF(AGGREGATE(TRANSFORM(TRANSFORM(ARRAY(' ', CONCAT(CHR(37), '20'), CHR(43)), ch -> CONCAT('echo', ch)), word -> INT(INSTR(LOWER(IF(ISNULL(payload), '', payload)), word))), 0, (x1, x2) -> x1+x2)>0, 1, 0) AS ips_00058_payload_cmd_echo_flag,\n",
    "\n",
    "        IF(AGGREGATE(TRANSFORM(TRANSFORM(ARRAY(' ', CONCAT(CHR(37), '20'), CHR(43)), ch -> CONCAT('rm', ch)), word -> INT(INSTR(LOWER(IF(ISNULL(payload), '', payload)), word))), 0, (x1, x2) -> x1+x2)>0, 1, 0) AS ips_00059_payload_cmd_rm_flag\n",
    "\n",
    "\n",
    "        FROM table\n",
    "\n",
    "\n",
    "\"\"\""
   ]
  },
  {
   "cell_type": "code",
   "execution_count": 22,
   "metadata": {},
   "outputs": [],
   "source": [
    "ips_query = \"\"\"\n",
    "    \n",
    "    SELECT payload, label,\n",
    "   \n",
    "        IF(INT(RLIKE(payload, 'VCAvY2dpLWJpbi9waHA0') )>0\n",
    "        OR INT(RLIKE(payload, 'L2NnaS1iaW4v') )>0\n",
    "        OR INT(RLIKE(payload, 'IC9jZ2ktYmlu') )>0\n",
    "        OR INT(RLIKE(payload, 'UE9TVCAvY2dpLWJpbi9waHA/') )>0\n",
    "        OR INT(RLIKE(payload, 'VCAvY2dpLWJpbi9w') )>0\n",
    "        OR INT(RLIKE(payload, 'ZGllKEBtZDU=') )>0\n",
    "        OR INT(RLIKE(payload, 'L2FueWZvcm0yL3VwZGF0ZS9hbnlmb3JtMi5pbmk=') )>0\n",
    "        OR INT(RLIKE(payload, 'Ly5iYXNoX2hpc3Rvcnk=') )>0\n",
    "        OR INT(RLIKE(payload, 'L2V0Yy9wYXNzd2Q=') )>0\n",
    "        OR INT(RLIKE(payload, 'QUFBQUFBQUFBQQ==') )>0\n",
    "        OR INT(RLIKE(payload, 'IG1hc3NjYW4vMS4w') )>0\n",
    "        OR INT(RLIKE(payload, 'd2dldA==') )>0\n",
    "        OR INT(RLIKE(payload, 'MjB3YWl0Zm9yJTIwZGVsYXklMjAn') )>0\n",
    "        OR INT(RLIKE(payload, 'V0FJVEZPUiBERUxBWQ==') )>0\n",
    "        OR INT(RLIKE(payload, 'ZXhlYw==') )>0\n",
    "        OR INT(RLIKE(payload, 'Tm9uZQ==') )>0\n",
    "        OR INT(RLIKE(payload, 'OyB3Z2V0') )>0\n",
    "        OR INT(RLIKE(payload, 'VXNlci1BZ2VudDogRGlyQnVzdGVy') )>0\n",
    "        OR INT(RLIKE(payload, 'cGhwIGRpZShAbWQ1') )>0\n",
    "        OR INT(RLIKE(payload, 'JTI4U0VMRUNUJTIw') )>0\n",
    "                ,1, 0) AS ips_00001_payload_base64,\n",
    "\n",
    "        IF(INT(RLIKE(SPLIT(REGEXP_REPLACE(LOWER(payload), '\\\\n|\\\\r|\\\\t', ' '), 'http/1.', 2)[0],  'select(.*?)from') )>0\n",
    "        OR INT(RLIKE(SPLIT(REGEXP_REPLACE(LOWER(payload), '\\\\n|\\\\r|\\\\t', ' '), 'http/1.', 2)[0],  'select(.*?)count') )>0\n",
    "        OR INT(RLIKE(SPLIT(REGEXP_REPLACE(LOWER(payload), '\\\\n|\\\\r|\\\\t', ' '), 'http/1.', 2)[0],  'select(.*?)distinct') )>0\n",
    "        OR INT(RLIKE(SPLIT(REGEXP_REPLACE(LOWER(payload), '\\\\n|\\\\r|\\\\t', ' '), 'http/1.', 2)[0],  'union(.*?)select') )>0\n",
    "        OR INT(RLIKE(SPLIT(REGEXP_REPLACE(LOWER(payload), '\\\\n|\\\\r|\\\\t', ' '), 'http/1.', 2)[0],  'select(.*?)extractvalue(.*?)xmltype') )>0\n",
    "        OR INT(RLIKE(SPLIT(REGEXP_REPLACE(LOWER(payload), '\\\\n|\\\\r|\\\\t', ' '), 'http/1.', 2)[0],  'from(.*?)generate(.*?)series') )>0\n",
    "        OR INT(RLIKE(SPLIT(REGEXP_REPLACE(LOWER(payload), '\\\\n|\\\\r|\\\\t', ' '), 'http/1.', 2)[0],  'from(.*?)group(.*?)by') )>0\n",
    "                ,1, 0) AS ips_00001_payload_sql_comb_01,\n",
    "\n",
    "        IF(INT(RLIKE(SPLIT(REGEXP_REPLACE(LOWER(payload), '\\\\n|\\\\r|\\\\t', ' '), 'http/1.', 2)[0],  'case(.*?)when') )>0\n",
    "        OR INT(RLIKE(SPLIT(REGEXP_REPLACE(LOWER(payload), '\\\\n|\\\\r|\\\\t', ' '), 'http/1.', 2)[0],  'then(.*?)else') )>0\n",
    "        OR INT(RLIKE(SPLIT(REGEXP_REPLACE(LOWER(payload), '\\\\n|\\\\r|\\\\t', ' '), 'http/1.', 2)[0],  'like') )>0\n",
    "        OR INT(RLIKE(SPLIT(REGEXP_REPLACE(LOWER(payload), '\\\\n|\\\\r|\\\\t', ' '), 'http/1.', 2)[0],  'sleep') )>0\n",
    "        OR INT(RLIKE(SPLIT(REGEXP_REPLACE(LOWER(payload), '\\\\n|\\\\r|\\\\t', ' '), 'http/1.', 2)[0],  'delete') )>0\n",
    "                ,1, 0) AS ips_00001_payload_sql_comb_02,\n",
    "\n",
    "        IF(INT(RLIKE(SPLIT(REGEXP_REPLACE(LOWER(payload), '\\\\n|\\\\r|\\\\t', ' '), 'http/1.', 2)[0],  'waitfor(.*?)delay') )>0\n",
    "        OR INT(RLIKE(SPLIT(REGEXP_REPLACE(LOWER(payload), '\\\\n|\\\\r|\\\\t', ' '), 'http/1.', 2)[0],  'db(.*?)sql(.*?)server') )>0\n",
    "        OR INT(RLIKE(SPLIT(REGEXP_REPLACE(LOWER(payload), '\\\\n|\\\\r|\\\\t', ' '), 'http/1.', 2)[0],  'cast(.*?)chr') )>0\n",
    "        OR INT(RLIKE(SPLIT(REGEXP_REPLACE(LOWER(payload), '\\\\n|\\\\r|\\\\t', ' '), 'http/1.', 2)[0],  'upper(.*?)xmltype') )>0\n",
    "                ,1, 0) AS ips_00001_payload_sql_comb_03,\n",
    "\n",
    "        IF(INT(RLIKE(REGEXP_REPLACE(LOWER(payload), '\\\\n|\\\\r|\\\\t', ' '), 'script(.*?)alert') )>0\n",
    "        OR INT(RLIKE(LOWER(payload), 'eval') )>0\n",
    "                ,1, 0) AS ips_00001_payload_xss_comb_01,\n",
    "\n",
    "        IF(INT(RLIKE(SPLIT(REGEXP_REPLACE(LOWER(payload), '\\\\n|\\\\r|\\\\t', ' '), 'http/1.', 2)[0],  'wget(.*?)ttp') )>0\n",
    "        OR INT(RLIKE(SPLIT(REGEXP_REPLACE(LOWER(payload), '\\\\n|\\\\r|\\\\t', ' '), 'http/1.', 2)[0],  'chmod(.*?)777') )>0\n",
    "        OR INT(RLIKE(SPLIT(REGEXP_REPLACE(LOWER(payload), '\\\\n|\\\\r|\\\\t', ' '), 'http/1.', 2)[0],  'rm(.*?)rf') )>0\n",
    "        OR INT(RLIKE(SPLIT(REGEXP_REPLACE(LOWER(payload), '\\\\n|\\\\r|\\\\t', ' '), 'http/1.', 2)[0],  'cd(.*?)tmp') )>0\n",
    "                ,1, 0) AS ips_00001_payload_cmd_comb_01,\n",
    "\n",
    "        IF(INT(RLIKE(REGEXP_REPLACE(LOWER(payload), '\\\\n|\\\\r|\\\\t', ' '), 'jndi(.*?)dap') )>0\n",
    "        OR INT(RLIKE(REGEXP_REPLACE(LOWER(payload), '\\\\n|\\\\r|\\\\t', ' '),'jndi(.*?)dns') )>0\n",
    "                ,1, 0) AS ips_00001_payload_log4j_comb_01,\n",
    "\n",
    "        IF(INT(RLIKE(REGEXP_REPLACE(LOWER(payload), '\\\\n|\\\\r|\\\\t', ' '), 'etc(.*?)passwd') )>0\n",
    "        OR INT(RLIKE(REGEXP_REPLACE(LOWER(payload), '\\\\n|\\\\r|\\\\t', ' '), 'document(.*?)createelement') )>0\n",
    "        OR INT(RLIKE(REGEXP_REPLACE(LOWER(payload), '\\\\n|\\\\r|\\\\t', ' '), 'cgi(.*?)bin') )>0\n",
    "        OR INT(RLIKE(REGEXP_REPLACE(LOWER(payload), '\\\\n|\\\\r|\\\\t', ' '), 'document(.*?)forms') )>0\n",
    "        OR INT(RLIKE(REGEXP_REPLACE(LOWER(payload), '\\\\n|\\\\r|\\\\t', ' '), 'document(.*?)location') )>0\n",
    "        OR INT(RLIKE(REGEXP_REPLACE(LOWER(payload), '\\\\n|\\\\r|\\\\t', ' '), 'fckeditor(.*?)filemanager') )>0\n",
    "        OR INT(RLIKE(REGEXP_REPLACE(LOWER(payload), '\\\\n|\\\\r|\\\\t', ' '), 'manager(.*?)html') )>0\n",
    "        OR INT(RLIKE(REGEXP_REPLACE(LOWER(payload), '\\\\n|\\\\r|\\\\t', ' '), 'current_config(.*?)passwd') )>0\n",
    "        OR INT(RLIKE(REGEXP_REPLACE(LOWER(payload), '\\\\n|\\\\r|\\\\t', ' '), 'currentsetting(.*?)htm') )>0\n",
    "        OR INT(RLIKE(REGEXP_REPLACE(LOWER(payload), '\\\\n|\\\\r|\\\\t', ' '), 'well(.*?)known') )>0\n",
    "                ,1, 0) AS ips_00001_payload_word_comb_01,\n",
    "\n",
    "        IF(INT(RLIKE(REGEXP_REPLACE(LOWER(payload), '\\\\n|\\\\r|\\\\t', ' '), 'bash(.*?)history') )>0\n",
    "        OR INT(RLIKE(REGEXP_REPLACE(LOWER(payload), '\\\\n|\\\\r|\\\\t', ' '), 'apache(.*?)struts') )>0\n",
    "        OR INT(RLIKE(REGEXP_REPLACE(LOWER(payload), '\\\\n|\\\\r|\\\\t', ' '), 'document(.*?)open') )>0\n",
    "        OR INT(RLIKE(REGEXP_REPLACE(LOWER(payload), '\\\\n|\\\\r|\\\\t', ' '), 'backup(.*?)sql') )>0\n",
    "        OR INT(RLIKE(REGEXP_REPLACE(LOWER(payload), '\\\\n|\\\\r|\\\\t', ' '), 'robots(.*?)txt') )>0\n",
    "        OR INT(RLIKE(REGEXP_REPLACE(LOWER(payload), '\\\\n|\\\\r|\\\\t', ' '), 'sqlexec(.*?)php') )>0\n",
    "        OR INT(RLIKE(LOWER(payload), 'htaccess') )>0\n",
    "        OR INT(RLIKE(LOWER(payload), 'htpasswd') )>0\n",
    "        OR INT(RLIKE(REGEXP_REPLACE(LOWER(payload), '\\\\n|\\\\r|\\\\t', ' '), 'cgi(.*?)cgi') )>0\n",
    "        OR INT(RLIKE(REGEXP_REPLACE(LOWER(payload), '\\\\n|\\\\r|\\\\t', ' '), 'api(.*?)ping') )>0\n",
    "                ,1, 0) AS ips_00001_payload_word_comb_02,\n",
    "\n",
    "        IF(INT(RLIKE(LOWER(payload), 'aaaaaaaaaa') )>0\n",
    "        OR INT(RLIKE(LOWER(payload), 'cacacacaca') )>0\n",
    "        OR INT(RLIKE(LOWER(payload), 'mozi[\\\\.]') )>0\n",
    "        OR INT(RLIKE(LOWER(payload), 'bingbot') )>0\n",
    "        OR INT(RLIKE(LOWER(payload), 'md5') )>0\n",
    "        OR INT(RLIKE(REGEXP_REPLACE(LOWER(payload), '\\\\n|\\\\r|\\\\t', ' '), 'jpg(.*?)http/1.') )>0\n",
    "        OR INT(RLIKE(REGEXP_REPLACE(LOWER(payload), '\\\\n|\\\\r|\\\\t', ' '), 'count(.*?)cgi(.*?)http') )>0\n",
    "        OR INT(RLIKE(REGEXP_REPLACE(LOWER(payload), '\\\\n|\\\\r|\\\\t', ' '), 'this(.*?)program(.*?)can') )>0\n",
    "        OR INT(RLIKE(REGEXP_REPLACE(LOWER(payload), '\\\\n|\\\\r|\\\\t', ' '), 'get(.*?)ping') )>0\n",
    "        OR INT(RLIKE(REGEXP_REPLACE(LOWER(payload), '\\\\n|\\\\r|\\\\t', ' '), 'msadc(.*?)dll(.*?)http') )>0\n",
    "        OR INT(RLIKE(REGEXP_REPLACE(LOWER(payload), '\\\\n|\\\\r|\\\\t', ' '), 'filename(.*?)asp') )>0\n",
    "        OR INT(RLIKE(REGEXP_REPLACE(LOWER(payload), '\\\\n|\\\\r|\\\\t', ' '), 'filename(.*?)jsp') )>0\n",
    "        OR INT(RLIKE(LOWER(payload), 'powershell'))>0\n",
    "        OR INT(RLIKE(LOWER(payload), '[\\\\.]env'))>0\n",
    "                ,1, 0) AS ips_00001_payload_word_comb_03,\n",
    "\n",
    "        IF(INT(RLIKE(REGEXP_REPLACE(LOWER(payload), '\\\\n|\\\\r|\\\\t', ' '), 'wp-login') )>0\n",
    "        OR INT(RLIKE(REGEXP_REPLACE(LOWER(payload), '\\\\n|\\\\r|\\\\t', ' '), 'wp-content') )>0\n",
    "        OR INT(RLIKE(REGEXP_REPLACE(LOWER(payload), '\\\\n|\\\\r|\\\\t', ' '), 'wp-include') )>0\n",
    "        OR INT(RLIKE(REGEXP_REPLACE(LOWER(payload), '\\\\n|\\\\r|\\\\t', ' '), 'wp-config') )>0\n",
    "                ,1, 0) AS ips_00001_payload_wp_comb_01,\n",
    "\n",
    "        IF(INT(RLIKE(REGEXP_REPLACE(LOWER(payload), '\\\\n|\\\\r|\\\\t', ' '), 'cmd(.*?)open') )>0\n",
    "        OR INT(RLIKE(REGEXP_REPLACE(LOWER(payload), '\\\\n|\\\\r|\\\\t', ' '), 'echo(.*?)shellshock') )>0\n",
    "        OR INT(RLIKE(REGEXP_REPLACE(LOWER(payload), '\\\\n|\\\\r|\\\\t', ' '), 'php(.*?)echo') )>0\n",
    "        OR INT(RLIKE(REGEXP_REPLACE(LOWER(payload), '\\\\n|\\\\r|\\\\t', ' '), 'admin(.*?)php') )>0\n",
    "        OR INT(RLIKE(REGEXP_REPLACE(LOWER(payload), '\\\\n|\\\\r|\\\\t', ' '), 'script(.*?)setup(.*?)php') )>0\n",
    "        OR INT(RLIKE(LOWER(payload), 'phpinfo') )>0\n",
    "        OR INT(RLIKE(LOWER(payload), 'administrator') )>0\n",
    "        OR INT(RLIKE(LOWER(payload), 'phpmyadmin') )>0\n",
    "        OR INT(RLIKE(LOWER(payload), 'access') )>0\n",
    "        OR INT(RLIKE(LOWER(payload), 'mdb') )>0\n",
    "        OR INT(RLIKE(REGEXP_REPLACE(LOWER(payload), '\\\\n|\\\\r|\\\\t', ' '), 'wise(.*?)survey(.*?)admin') )>0\n",
    "        OR INT(RLIKE(REGEXP_REPLACE(LOWER(payload), '\\\\n|\\\\r|\\\\t', ' '), 'admin(.*?)serv(.*?)admpw') )>0\n",
    "        OR INT(RLIKE(REGEXP_REPLACE(LOWER(payload), '\\\\n|\\\\r|\\\\t', ' '), 'php(.*?)create(.*?)function') )>0\n",
    "                ,1, 0) AS ips_00001_payload_word_comb_04,\n",
    "                \n",
    "        IF(INT(RLIKE(SPLIT(REGEXP_REPLACE(LOWER(payload), '\\\\n|\\\\r|\\\\t', ' '), 'http/1.', 2)[1],  'user(.*?)agent(.*?)zgrab') )>0\n",
    "        OR INT(RLIKE(SPLIT(REGEXP_REPLACE(LOWER(payload), '\\\\n|\\\\r|\\\\t', ' '), 'http/1.', 2)[1],  'user(.*?)agent(.*?)nmap') )>0\n",
    "        OR INT(RLIKE(SPLIT(REGEXP_REPLACE(LOWER(payload), '\\\\n|\\\\r|\\\\t', ' '), 'http/1.', 2)[1],  'user(.*?)agent(.*?)dirbuster') )>0\n",
    "        OR INT(RLIKE(SPLIT(REGEXP_REPLACE(LOWER(payload), '\\\\n|\\\\r|\\\\t', ' '), 'http/1.', 2)[1],  'user(.*?)agent(.*?)ahrefsbot') )>0\n",
    "        OR INT(RLIKE(SPLIT(REGEXP_REPLACE(LOWER(payload), '\\\\n|\\\\r|\\\\t', ' '), 'http/1.', 2)[1],  'user(.*?)agent(.*?)baiduspider') )>0\n",
    "        OR INT(RLIKE(SPLIT(REGEXP_REPLACE(LOWER(payload), '\\\\n|\\\\r|\\\\t', ' '), 'http/1.', 2)[1],  'user(.*?)agent(.*?)mj12bot') )>0\n",
    "        OR INT(RLIKE(SPLIT(REGEXP_REPLACE(LOWER(payload), '\\\\n|\\\\r|\\\\t', ' '), 'http/1.', 2)[1],  'user(.*?)agent(.*?)petalbot') )>0\n",
    "        OR INT(RLIKE(SPLIT(REGEXP_REPLACE(LOWER(payload), '\\\\n|\\\\r|\\\\t', ' '), 'http/1.', 2)[1],  'user(.*?)agent(.*?)curl/') )>0\n",
    "        OR INT(RLIKE(SPLIT(REGEXP_REPLACE(LOWER(payload), '\\\\n|\\\\r|\\\\t', ' '), 'http/1.', 2)[1],  'user(.*?)agent(.*?)semrushbot') )>0\n",
    "        OR INT(RLIKE(SPLIT(REGEXP_REPLACE(LOWER(payload), '\\\\n|\\\\r|\\\\t', ' '), 'http/1.', 2)[1],  'user(.*?)agent(.*?)masscan') )>0\n",
    "        OR INT(RLIKE(SPLIT(REGEXP_REPLACE(LOWER(payload), '\\\\n|\\\\r|\\\\t', ' '), 'http/1.', 2)[1],  'user(.*?)agent(.*?)sqlmap') )>0\n",
    "        OR INT(RLIKE(SPLIT(REGEXP_REPLACE(LOWER(payload), '\\\\n|\\\\r|\\\\t', ' '), 'http/1.', 2)[1],  'user(.*?)agent(.*?)urlgrabber(.*?)yum') )>0\n",
    "                ,1, 0) AS ips_00001_payload_useragent_comb,\n",
    "                \n",
    "        (SIZE(SPLIT(REGEXP_REPLACE(LOWER(payload), '\\\\n|\\\\r|\\\\t', ' '), 'get(.*?)http/1.')) -1)\n",
    "            + (SIZE(SPLIT(REGEXP_REPLACE(LOWER(payload), '\\\\n|\\\\r|\\\\t', ' '), 'post(.*?)http/1.')) -1)\n",
    "        + (SIZE(SPLIT(REGEXP_REPLACE(LOWER(payload), '\\\\n|\\\\r|\\\\t', ' '), 'head(.*?)http/1.')) -1)\n",
    "        + (SIZE(SPLIT(REGEXP_REPLACE(LOWER(payload), '\\\\n|\\\\r|\\\\t', ' '), 'option(.*?)http/1.')) -1)\n",
    "        AS ips_00001_payload_whitelist\n",
    "    FROM table\n",
    "    \n",
    "\"\"\""
   ]
  },
  {
   "cell_type": "code",
   "execution_count": 23,
   "metadata": {},
   "outputs": [],
   "source": [
    "# 쿼리 실행하고, 결과 데이터 프레임에 저장\n",
    "# output_df = session.sql(query_1) #<==== 쿼리를 실행하는 부분\n",
    "# output_df_2 = session.sql(query_2) #<==== 쿼리를 실행하는 부분\n",
    "output_df = session.sql(ips_query)"
   ]
  },
  {
   "cell_type": "code",
   "execution_count": 24,
   "metadata": {},
   "outputs": [
    {
     "name": "stdout",
     "output_type": "stream",
     "text": [
      "23/03/10 22:34:54 WARN TaskSetManager: Stage 1 contains a task of very large size (1299 KiB). The maximum recommended task size is 1000 KiB.\n"
     ]
    },
    {
     "name": "stderr",
     "output_type": "stream",
     "text": [
      "[Stage 1:=============================>                            (5 + 5) / 10]\r"
     ]
    },
    {
     "name": "stdout",
     "output_type": "stream",
     "text": [
      "전처리 데이터 크기:  (28380, 16)\n",
      "전처리 데이터 샘플:                                                   payload      label  \\\n",
      "0                                                    NaN     normal   \n",
      "1                                                    NaN     normal   \n",
      "2                                                    NaN     normal   \n",
      "3                                                    NaN     normal   \n",
      "4                                                    NaN     normal   \n",
      "...                                                  ...        ...   \n",
      "28375  GET /ping?h=webpage.com&p=%2Fko-kr%2Fnews%2Fpo...  anomalies   \n",
      "28376  GET /ping?h=webpage.com&p=%2Fko-kr%2Fnews%2Fph...  anomalies   \n",
      "28377  GET /ping?h=webpage.com&p=%2Fko-kr%2Fmoney%2Ft...  anomalies   \n",
      "28378  GET /ping?h=webpage.com&p=%2Fmtview.php%3Fno%3...  anomalies   \n",
      "28379  GET /land_info/index.jsp HTTP/1.1\\nHost: webpa...  anomalies   \n",
      "\n",
      "       ips_00001_payload_base64  ips_00001_payload_sql_comb_01  \\\n",
      "0                             0                              0   \n",
      "1                             0                              0   \n",
      "2                             0                              0   \n",
      "3                             0                              0   \n",
      "4                             0                              0   \n",
      "...                         ...                            ...   \n",
      "28375                         0                              0   \n",
      "28376                         0                              0   \n",
      "28377                         0                              0   \n",
      "28378                         0                              0   \n",
      "28379                         0                              0   \n",
      "\n",
      "       ips_00001_payload_sql_comb_02  ips_00001_payload_sql_comb_03  \\\n",
      "0                                  0                              0   \n",
      "1                                  0                              0   \n",
      "2                                  0                              0   \n",
      "3                                  0                              0   \n",
      "4                                  0                              0   \n",
      "...                              ...                            ...   \n",
      "28375                              0                              0   \n",
      "28376                              0                              0   \n",
      "28377                              0                              0   \n",
      "28378                              0                              0   \n",
      "28379                              0                              0   \n",
      "\n",
      "       ips_00001_payload_xss_comb_01  ips_00001_payload_cmd_comb_01  \\\n",
      "0                                  0                              0   \n",
      "1                                  0                              0   \n",
      "2                                  0                              0   \n",
      "3                                  0                              0   \n",
      "4                                  0                              0   \n",
      "...                              ...                            ...   \n",
      "28375                              0                              0   \n",
      "28376                              0                              0   \n",
      "28377                              0                              0   \n",
      "28378                              0                              0   \n",
      "28379                              0                              0   \n",
      "\n",
      "       ips_00001_payload_log4j_comb_01  ips_00001_payload_word_comb_01  \\\n",
      "0                                    0                               0   \n",
      "1                                    0                               0   \n",
      "2                                    0                               0   \n",
      "3                                    0                               0   \n",
      "4                                    0                               0   \n",
      "...                                ...                             ...   \n",
      "28375                                0                               0   \n",
      "28376                                0                               0   \n",
      "28377                                0                               0   \n",
      "28378                                0                               0   \n",
      "28379                                0                               0   \n",
      "\n",
      "       ips_00001_payload_word_comb_02  ips_00001_payload_word_comb_03  \\\n",
      "0                                   0                               0   \n",
      "1                                   0                               0   \n",
      "2                                   0                               0   \n",
      "3                                   0                               0   \n",
      "4                                   0                               0   \n",
      "...                               ...                             ...   \n",
      "28375                               0                               1   \n",
      "28376                               0                               1   \n",
      "28377                               0                               1   \n",
      "28378                               0                               1   \n",
      "28379                               0                               0   \n",
      "\n",
      "       ips_00001_payload_wp_comb_01  ips_00001_payload_word_comb_04  \\\n",
      "0                                 0                               0   \n",
      "1                                 0                               0   \n",
      "2                                 0                               0   \n",
      "3                                 0                               0   \n",
      "4                                 0                               0   \n",
      "...                             ...                             ...   \n",
      "28375                             0                               0   \n",
      "28376                             0                               0   \n",
      "28377                             0                               0   \n",
      "28378                             0                               0   \n",
      "28379                             0                               0   \n",
      "\n",
      "       ips_00001_payload_useragent_comb  ips_00001_payload_whitelist  \n",
      "0                                     0                            0  \n",
      "1                                     0                            0  \n",
      "2                                     0                            0  \n",
      "3                                     0                            0  \n",
      "4                                     0                            0  \n",
      "...                                 ...                          ...  \n",
      "28375                                 0                            1  \n",
      "28376                                 0                            1  \n",
      "28377                                 0                            1  \n",
      "28378                                 0                            1  \n",
      "28379                                 1                            1  \n",
      "\n",
      "[28380 rows x 16 columns]\n"
     ]
    },
    {
     "name": "stderr",
     "output_type": "stream",
     "text": [
      "                                                                                \r"
     ]
    }
   ],
   "source": [
    "sql_result_df = output_df.toPandas()\n",
    "# sql_result_df_2 = output_df_2.toPandas()\n",
    "# sql_result_df_result = pd.concat([sql_result_df, sql_result_df_2], axis = 1)\n",
    "\n",
    "# sql_result_df_result['ips_00014_payload_logscaled_length_value'] = sql_result_df_result['ips_00014_payload_logscaled_length_value'].astype(int)\n",
    "\n",
    "print('전처리 데이터 크기: ', sql_result_df.shape)\n",
    "print('전처리 데이터 샘플: ', sql_result_df)"
   ]
  },
  {
   "cell_type": "code",
   "execution_count": 25,
   "metadata": {},
   "outputs": [
    {
     "data": {
      "text/plain": [
       "Index(['payload', 'label', 'ips_00001_payload_base64',\n",
       "       'ips_00001_payload_sql_comb_01', 'ips_00001_payload_sql_comb_02',\n",
       "       'ips_00001_payload_sql_comb_03', 'ips_00001_payload_xss_comb_01',\n",
       "       'ips_00001_payload_cmd_comb_01', 'ips_00001_payload_log4j_comb_01',\n",
       "       'ips_00001_payload_word_comb_01', 'ips_00001_payload_word_comb_02',\n",
       "       'ips_00001_payload_word_comb_03', 'ips_00001_payload_wp_comb_01',\n",
       "       'ips_00001_payload_word_comb_04', 'ips_00001_payload_useragent_comb',\n",
       "       'ips_00001_payload_whitelist'],\n",
       "      dtype='object')"
      ]
     },
     "execution_count": 25,
     "metadata": {},
     "output_type": "execute_result"
    }
   ],
   "source": [
    "sql_result_df.columns"
   ]
  },
  {
   "cell_type": "code",
   "execution_count": 26,
   "metadata": {},
   "outputs": [
    {
     "data": {
      "text/plain": [
       "(28380, 16)"
      ]
     },
     "execution_count": 26,
     "metadata": {},
     "output_type": "execute_result"
    }
   ],
   "source": [
    "sql_result_df.shape"
   ]
  },
  {
   "cell_type": "code",
   "execution_count": 27,
   "metadata": {},
   "outputs": [
    {
     "data": {
      "text/plain": [
       "payload                             object\n",
       "label                               object\n",
       "ips_00001_payload_base64             int32\n",
       "ips_00001_payload_sql_comb_01        int32\n",
       "ips_00001_payload_sql_comb_02        int32\n",
       "ips_00001_payload_sql_comb_03        int32\n",
       "ips_00001_payload_xss_comb_01        int32\n",
       "ips_00001_payload_cmd_comb_01        int32\n",
       "ips_00001_payload_log4j_comb_01      int32\n",
       "ips_00001_payload_word_comb_01       int32\n",
       "ips_00001_payload_word_comb_02       int32\n",
       "ips_00001_payload_word_comb_03       int32\n",
       "ips_00001_payload_wp_comb_01         int32\n",
       "ips_00001_payload_word_comb_04       int32\n",
       "ips_00001_payload_useragent_comb     int32\n",
       "ips_00001_payload_whitelist          int32\n",
       "dtype: object"
      ]
     },
     "execution_count": 27,
     "metadata": {},
     "output_type": "execute_result"
    }
   ],
   "source": [
    "sql_result_df.dtypes"
   ]
  },
  {
   "cell_type": "code",
   "execution_count": 28,
   "metadata": {},
   "outputs": [
    {
     "data": {
      "text/html": [
       "<div>\n",
       "<style scoped>\n",
       "    .dataframe tbody tr th:only-of-type {\n",
       "        vertical-align: middle;\n",
       "    }\n",
       "\n",
       "    .dataframe tbody tr th {\n",
       "        vertical-align: top;\n",
       "    }\n",
       "\n",
       "    .dataframe thead th {\n",
       "        text-align: right;\n",
       "    }\n",
       "</style>\n",
       "<table border=\"1\" class=\"dataframe\">\n",
       "  <thead>\n",
       "    <tr style=\"text-align: right;\">\n",
       "      <th></th>\n",
       "      <th>ips_00001_payload_base64</th>\n",
       "      <th>ips_00001_payload_sql_comb_01</th>\n",
       "      <th>ips_00001_payload_sql_comb_02</th>\n",
       "      <th>ips_00001_payload_sql_comb_03</th>\n",
       "      <th>ips_00001_payload_xss_comb_01</th>\n",
       "      <th>ips_00001_payload_cmd_comb_01</th>\n",
       "      <th>ips_00001_payload_log4j_comb_01</th>\n",
       "      <th>ips_00001_payload_word_comb_01</th>\n",
       "      <th>ips_00001_payload_word_comb_02</th>\n",
       "      <th>ips_00001_payload_word_comb_03</th>\n",
       "      <th>ips_00001_payload_wp_comb_01</th>\n",
       "      <th>ips_00001_payload_word_comb_04</th>\n",
       "      <th>ips_00001_payload_useragent_comb</th>\n",
       "      <th>ips_00001_payload_whitelist</th>\n",
       "    </tr>\n",
       "  </thead>\n",
       "  <tbody>\n",
       "    <tr>\n",
       "      <th>count</th>\n",
       "      <td>28380.000000</td>\n",
       "      <td>28380.000000</td>\n",
       "      <td>28380.000000</td>\n",
       "      <td>28380.000000</td>\n",
       "      <td>28380.000000</td>\n",
       "      <td>28380.000000</td>\n",
       "      <td>28380.000000</td>\n",
       "      <td>28380.000000</td>\n",
       "      <td>28380.00000</td>\n",
       "      <td>28380.000000</td>\n",
       "      <td>28380.000000</td>\n",
       "      <td>28380.000000</td>\n",
       "      <td>28380.000000</td>\n",
       "      <td>28380.000000</td>\n",
       "    </tr>\n",
       "    <tr>\n",
       "      <th>mean</th>\n",
       "      <td>0.004158</td>\n",
       "      <td>0.014975</td>\n",
       "      <td>0.016032</td>\n",
       "      <td>0.006730</td>\n",
       "      <td>0.071917</td>\n",
       "      <td>0.025300</td>\n",
       "      <td>0.005285</td>\n",
       "      <td>0.220402</td>\n",
       "      <td>0.17611</td>\n",
       "      <td>0.056660</td>\n",
       "      <td>0.022727</td>\n",
       "      <td>0.090768</td>\n",
       "      <td>0.018252</td>\n",
       "      <td>1.060395</td>\n",
       "    </tr>\n",
       "    <tr>\n",
       "      <th>std</th>\n",
       "      <td>0.064348</td>\n",
       "      <td>0.121456</td>\n",
       "      <td>0.125602</td>\n",
       "      <td>0.081762</td>\n",
       "      <td>0.258355</td>\n",
       "      <td>0.157036</td>\n",
       "      <td>0.072510</td>\n",
       "      <td>0.414525</td>\n",
       "      <td>0.38092</td>\n",
       "      <td>0.231195</td>\n",
       "      <td>0.149035</td>\n",
       "      <td>0.287284</td>\n",
       "      <td>0.133865</td>\n",
       "      <td>1.964343</td>\n",
       "    </tr>\n",
       "    <tr>\n",
       "      <th>min</th>\n",
       "      <td>0.000000</td>\n",
       "      <td>0.000000</td>\n",
       "      <td>0.000000</td>\n",
       "      <td>0.000000</td>\n",
       "      <td>0.000000</td>\n",
       "      <td>0.000000</td>\n",
       "      <td>0.000000</td>\n",
       "      <td>0.000000</td>\n",
       "      <td>0.00000</td>\n",
       "      <td>0.000000</td>\n",
       "      <td>0.000000</td>\n",
       "      <td>0.000000</td>\n",
       "      <td>0.000000</td>\n",
       "      <td>0.000000</td>\n",
       "    </tr>\n",
       "    <tr>\n",
       "      <th>25%</th>\n",
       "      <td>0.000000</td>\n",
       "      <td>0.000000</td>\n",
       "      <td>0.000000</td>\n",
       "      <td>0.000000</td>\n",
       "      <td>0.000000</td>\n",
       "      <td>0.000000</td>\n",
       "      <td>0.000000</td>\n",
       "      <td>0.000000</td>\n",
       "      <td>0.00000</td>\n",
       "      <td>0.000000</td>\n",
       "      <td>0.000000</td>\n",
       "      <td>0.000000</td>\n",
       "      <td>0.000000</td>\n",
       "      <td>0.000000</td>\n",
       "    </tr>\n",
       "    <tr>\n",
       "      <th>50%</th>\n",
       "      <td>0.000000</td>\n",
       "      <td>0.000000</td>\n",
       "      <td>0.000000</td>\n",
       "      <td>0.000000</td>\n",
       "      <td>0.000000</td>\n",
       "      <td>0.000000</td>\n",
       "      <td>0.000000</td>\n",
       "      <td>0.000000</td>\n",
       "      <td>0.00000</td>\n",
       "      <td>0.000000</td>\n",
       "      <td>0.000000</td>\n",
       "      <td>0.000000</td>\n",
       "      <td>0.000000</td>\n",
       "      <td>1.000000</td>\n",
       "    </tr>\n",
       "    <tr>\n",
       "      <th>75%</th>\n",
       "      <td>0.000000</td>\n",
       "      <td>0.000000</td>\n",
       "      <td>0.000000</td>\n",
       "      <td>0.000000</td>\n",
       "      <td>0.000000</td>\n",
       "      <td>0.000000</td>\n",
       "      <td>0.000000</td>\n",
       "      <td>0.000000</td>\n",
       "      <td>0.00000</td>\n",
       "      <td>0.000000</td>\n",
       "      <td>0.000000</td>\n",
       "      <td>0.000000</td>\n",
       "      <td>0.000000</td>\n",
       "      <td>1.000000</td>\n",
       "    </tr>\n",
       "    <tr>\n",
       "      <th>max</th>\n",
       "      <td>1.000000</td>\n",
       "      <td>1.000000</td>\n",
       "      <td>1.000000</td>\n",
       "      <td>1.000000</td>\n",
       "      <td>1.000000</td>\n",
       "      <td>1.000000</td>\n",
       "      <td>1.000000</td>\n",
       "      <td>1.000000</td>\n",
       "      <td>1.00000</td>\n",
       "      <td>1.000000</td>\n",
       "      <td>1.000000</td>\n",
       "      <td>1.000000</td>\n",
       "      <td>1.000000</td>\n",
       "      <td>18.000000</td>\n",
       "    </tr>\n",
       "  </tbody>\n",
       "</table>\n",
       "</div>"
      ],
      "text/plain": [
       "       ips_00001_payload_base64  ips_00001_payload_sql_comb_01  \\\n",
       "count              28380.000000                   28380.000000   \n",
       "mean                   0.004158                       0.014975   \n",
       "std                    0.064348                       0.121456   \n",
       "min                    0.000000                       0.000000   \n",
       "25%                    0.000000                       0.000000   \n",
       "50%                    0.000000                       0.000000   \n",
       "75%                    0.000000                       0.000000   \n",
       "max                    1.000000                       1.000000   \n",
       "\n",
       "       ips_00001_payload_sql_comb_02  ips_00001_payload_sql_comb_03  \\\n",
       "count                   28380.000000                   28380.000000   \n",
       "mean                        0.016032                       0.006730   \n",
       "std                         0.125602                       0.081762   \n",
       "min                         0.000000                       0.000000   \n",
       "25%                         0.000000                       0.000000   \n",
       "50%                         0.000000                       0.000000   \n",
       "75%                         0.000000                       0.000000   \n",
       "max                         1.000000                       1.000000   \n",
       "\n",
       "       ips_00001_payload_xss_comb_01  ips_00001_payload_cmd_comb_01  \\\n",
       "count                   28380.000000                   28380.000000   \n",
       "mean                        0.071917                       0.025300   \n",
       "std                         0.258355                       0.157036   \n",
       "min                         0.000000                       0.000000   \n",
       "25%                         0.000000                       0.000000   \n",
       "50%                         0.000000                       0.000000   \n",
       "75%                         0.000000                       0.000000   \n",
       "max                         1.000000                       1.000000   \n",
       "\n",
       "       ips_00001_payload_log4j_comb_01  ips_00001_payload_word_comb_01  \\\n",
       "count                     28380.000000                    28380.000000   \n",
       "mean                          0.005285                        0.220402   \n",
       "std                           0.072510                        0.414525   \n",
       "min                           0.000000                        0.000000   \n",
       "25%                           0.000000                        0.000000   \n",
       "50%                           0.000000                        0.000000   \n",
       "75%                           0.000000                        0.000000   \n",
       "max                           1.000000                        1.000000   \n",
       "\n",
       "       ips_00001_payload_word_comb_02  ips_00001_payload_word_comb_03  \\\n",
       "count                     28380.00000                    28380.000000   \n",
       "mean                          0.17611                        0.056660   \n",
       "std                           0.38092                        0.231195   \n",
       "min                           0.00000                        0.000000   \n",
       "25%                           0.00000                        0.000000   \n",
       "50%                           0.00000                        0.000000   \n",
       "75%                           0.00000                        0.000000   \n",
       "max                           1.00000                        1.000000   \n",
       "\n",
       "       ips_00001_payload_wp_comb_01  ips_00001_payload_word_comb_04  \\\n",
       "count                  28380.000000                    28380.000000   \n",
       "mean                       0.022727                        0.090768   \n",
       "std                        0.149035                        0.287284   \n",
       "min                        0.000000                        0.000000   \n",
       "25%                        0.000000                        0.000000   \n",
       "50%                        0.000000                        0.000000   \n",
       "75%                        0.000000                        0.000000   \n",
       "max                        1.000000                        1.000000   \n",
       "\n",
       "       ips_00001_payload_useragent_comb  ips_00001_payload_whitelist  \n",
       "count                      28380.000000                 28380.000000  \n",
       "mean                           0.018252                     1.060395  \n",
       "std                            0.133865                     1.964343  \n",
       "min                            0.000000                     0.000000  \n",
       "25%                            0.000000                     0.000000  \n",
       "50%                            0.000000                     1.000000  \n",
       "75%                            0.000000                     1.000000  \n",
       "max                            1.000000                    18.000000  "
      ]
     },
     "execution_count": 28,
     "metadata": {},
     "output_type": "execute_result"
    }
   ],
   "source": [
    "sql_result_df.describe()"
   ]
  },
  {
   "cell_type": "code",
   "execution_count": 29,
   "metadata": {},
   "outputs": [
    {
     "data": {
      "text/plain": [
       "0    27662\n",
       "1      718\n",
       "Name: ips_00001_payload_cmd_comb_01, dtype: int64"
      ]
     },
     "execution_count": 29,
     "metadata": {},
     "output_type": "execute_result"
    }
   ],
   "source": [
    "sql_result_df['ips_00001_payload_cmd_comb_01'].value_counts()"
   ]
  },
  {
   "cell_type": "code",
   "execution_count": 30,
   "metadata": {},
   "outputs": [
    {
     "data": {
      "text/plain": [
       "anomalies    23845\n",
       "normal        4535\n",
       "Name: label, dtype: int64"
      ]
     },
     "execution_count": 30,
     "metadata": {},
     "output_type": "execute_result"
    }
   ],
   "source": [
    "sql_result_df['label'].value_counts()"
   ]
  },
  {
   "cell_type": "code",
   "execution_count": 31,
   "metadata": {},
   "outputs": [
    {
     "data": {
      "text/plain": [
       "normal       948\n",
       "anomalies    836\n",
       "Name: label, dtype: int64"
      ]
     },
     "execution_count": 31,
     "metadata": {},
     "output_type": "execute_result"
    }
   ],
   "source": [
    "aaa = sql_result_df[sql_result_df['ips_00001_payload_whitelist'] >= 2]\n",
    "aaa['label'].value_counts()"
   ]
  },
  {
   "cell_type": "code",
   "execution_count": 34,
   "metadata": {},
   "outputs": [],
   "source": [
    "# ips_00001_payload_whitelist 가 2 이상인 경우 normal 로 라벨 변경\n",
    "sql_result_df['label'] = sql_result_df.apply(lambda x: 'normal' if x['ips_00001_payload_whitelist'] >= 2\n",
    "                                             else x['label'], axis = 1)"
   ]
  },
  {
   "cell_type": "code",
   "execution_count": 35,
   "metadata": {},
   "outputs": [
    {
     "data": {
      "text/plain": [
       "normal    1784\n",
       "Name: label, dtype: int64"
      ]
     },
     "execution_count": 35,
     "metadata": {},
     "output_type": "execute_result"
    }
   ],
   "source": [
    "aaa = sql_result_df[sql_result_df['ips_00001_payload_whitelist'] >= 2]\n",
    "aaa['label'].value_counts()"
   ]
  },
  {
   "cell_type": "code",
   "execution_count": 36,
   "metadata": {},
   "outputs": [
    {
     "data": {
      "text/plain": [
       "0"
      ]
     },
     "execution_count": 36,
     "metadata": {},
     "output_type": "execute_result"
    }
   ],
   "source": [
    "min(sql_result_df['ips_00001_payload_whitelist'])"
   ]
  },
  {
   "cell_type": "code",
   "execution_count": 45,
   "metadata": {},
   "outputs": [
    {
     "data": {
      "text/plain": [
       "1    6731\n",
       "0    5862\n",
       "Name: ips_00001_payload_whitelist, dtype: int64"
      ]
     },
     "execution_count": 45,
     "metadata": {},
     "output_type": "execute_result"
    }
   ],
   "source": [
    "aaa = sql_result_df[sql_result_df['ips_00001_payload_whitelist'] <= 1]\n",
    "\n",
    "# aaa.iloc[:, 2:-1] 피처 값 합이 0 인 경우 데이터 프레임 생성\n",
    "aaa = aaa[aaa.iloc[:, 2:-1].sum(axis = 1) == 0]\n",
    "aaa['ips_00001_payload_whitelist'].value_counts()"
   ]
  },
  {
   "cell_type": "code",
   "execution_count": 50,
   "metadata": {},
   "outputs": [],
   "source": [
    "# ips_00001_payload_whitelist 가 1 이하이고, 공격 피처 값 합이 0 인 경우 normal 로 라벨 변경\n",
    "sql_result_df['label'] = sql_result_df.apply(lambda x: 'normal' if x['ips_00001_payload_whitelist'] <= 1 \n",
    "                                             and x[2:-1].sum() == 0\n",
    "                                            else x['label'], axis = 1)"
   ]
  },
  {
   "cell_type": "code",
   "execution_count": 51,
   "metadata": {},
   "outputs": [
    {
     "data": {
      "text/plain": [
       "normal    12593\n",
       "Name: label, dtype: int64"
      ]
     },
     "execution_count": 51,
     "metadata": {},
     "output_type": "execute_result"
    }
   ],
   "source": [
    "aaa = sql_result_df[sql_result_df['ips_00001_payload_whitelist'] <= 1]\n",
    "\n",
    "# aaa.iloc[:, 2:-1] 피처 값 합이 0 인 경우 데이터 프레임 생성\n",
    "aaa = aaa[aaa.iloc[:, 2:-1].sum(axis = 1) == 0]\n",
    "aaa['label'].value_counts()"
   ]
  },
  {
   "cell_type": "code",
   "execution_count": 52,
   "metadata": {},
   "outputs": [
    {
     "data": {
      "text/plain": [
       "normal       15130\n",
       "anomalies    13250\n",
       "Name: label, dtype: int64"
      ]
     },
     "execution_count": 52,
     "metadata": {},
     "output_type": "execute_result"
    }
   ],
   "source": [
    "sql_result_df['label'].value_counts()"
   ]
  },
  {
   "cell_type": "code",
   "execution_count": 53,
   "metadata": {},
   "outputs": [
    {
     "data": {
      "text/plain": [
       "(28380, 16)"
      ]
     },
     "execution_count": 53,
     "metadata": {},
     "output_type": "execute_result"
    }
   ],
   "source": [
    "sql_result_df.shape"
   ]
  },
  {
   "cell_type": "code",
   "execution_count": 19,
   "metadata": {},
   "outputs": [
    {
     "name": "stderr",
     "output_type": "stream",
     "text": [
      "22/03/04 02:12:23 WARN HeartbeatReceiver: Removing executor driver with no recent heartbeats: 1895949 ms exceeds timeout 120000 ms\n",
      "22/03/04 02:12:23 WARN SparkContext: Killing executors is not supported by current scheduler.\n"
     ]
    }
   ],
   "source": [
    "# sql_result_df_result.to_csv('IPS_payload_200000_sql_result_df_result.csv', index = False, sep = ',')\n",
    "# sql_result_df_result.to_csv('mss_20220304_sql_result_df.csv', index = False, sep = ',')"
   ]
  },
  {
   "cell_type": "code",
   "execution_count": 24,
   "metadata": {},
   "outputs": [
    {
     "name": "stdout",
     "output_type": "stream",
     "text": [
      "22/12/03 17:47:33 WARN HeartbeatReceiver: Removing executor driver with no recent heartbeats: 172392 ms exceeds timeout 120000 ms\n",
      "22/12/03 17:47:33 WARN SparkContext: Killing executors is not supported by current scheduler.\n"
     ]
    }
   ],
   "source": [
    "# sql_result_df.to_csv('IPS_XAI_deploy_20221201.csv', index = False, sep = ',')"
   ]
  },
  {
   "cell_type": "code",
   "execution_count": 54,
   "metadata": {},
   "outputs": [],
   "source": [
    "# sql_result_df.to_csv('IPS_XAI_deploy_20230310.csv', index = False, sep = ',')"
   ]
  },
  {
   "cell_type": "code",
   "execution_count": null,
   "metadata": {},
   "outputs": [],
   "source": []
  }
 ],
 "metadata": {
  "interpreter": {
   "hash": "4394eee0fff6724ce505428e0bf45950592091024b5e821af64edaa1085e7223"
  },
  "kernelspec": {
   "display_name": "Python 3.8.11 64-bit ('newenv': conda)",
   "language": "python",
   "name": "python3"
  },
  "language_info": {
   "codemirror_mode": {
    "name": "ipython",
    "version": 3
   },
   "file_extension": ".py",
   "mimetype": "text/x-python",
   "name": "python",
   "nbconvert_exporter": "python",
   "pygments_lexer": "ipython3",
   "version": "3.8.12"
  },
  "orig_nbformat": 4
 },
 "nbformat": 4,
 "nbformat_minor": 2
}
